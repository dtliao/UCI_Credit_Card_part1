{
 "cells": [
  {
   "cell_type": "markdown",
   "metadata": {},
   "source": [
    "#### Dataset: https://www.kaggle.com/uciml/default-of-credit-card-clients-dataset"
   ]
  },
  {
   "cell_type": "markdown",
   "metadata": {},
   "source": [
    "ID: ID of each client\n",
    "\n",
    "LIMIT_BAL: Amount of given credit in NT dollars (includes individual and family/supplementary credit\n",
    "\n",
    "SEX: Gender (1=male, 2=female)\n",
    "\n",
    "EDUCATION: (1=graduate school, 2=university, 3=high school, 4=others, 5=unknown, 6=unknown)\n",
    "\n",
    "MARRIAGE: Marital status (1=married, 2=single, 3=others)\n",
    "\n",
    "AGE: Age in years\n",
    "\n",
    "PAY_0 - PAY_6 (without Pay_1): Repayment status from September-April, 2005 (-1=pay duly, 1=payment delay for one month, 2=payment delay for two months, ... 8=payment delay for eight months, 9=payment delay for nine months and above)\n",
    "\n",
    "- Pay_6 = April, Pay_5 = May, Pay_4 = June, Pay_3 = July, Pay_2 = August, Pay_0 = September\n",
    "\n",
    "BILL_AMT1 - BILL_AMT6: Amount of bill statement from September-April, 2005 (NT dollar)\n",
    "\n",
    "- BILL_AMT6 = April, BILL_AMT5 = May, BILL_AMT4 = June, BILL_AMT3 = July, BILL_AMT2 = August, BILL_AMT1 = September\n",
    "\n",
    "PAY_AMT1 - PAY_AMT6: Amount of previous payment from September-April, 2005 (NT dollar)\n",
    "\n",
    "- Pay_AMT6 = April, Pay_AMT5 = May, Pay_AMT4 = June, Pay_AMT3 = July, Pay_AMT2 = August, Pay_AMT1 = September\n",
    "\n",
    "default.payment.next.month: Default payment (1=yes, 0=no)\n"
   ]
  },
  {
   "cell_type": "markdown",
   "metadata": {},
   "source": [
    "<div class=\"alert alert-block alert-info\">\n",
    "<b><font size=\"4\"> Importing the Necessary Libraries</font></b>\n",
    "</div>"
   ]
  },
  {
   "cell_type": "code",
   "execution_count": 1,
   "metadata": {},
   "outputs": [],
   "source": [
    "import pandas as pd\n",
    "import numpy as np\n",
    "import matplotlib.pyplot as plt\n",
    "import seaborn as sns\n",
    "%matplotlib inline\n",
    "import warnings\n",
    "warnings.filterwarnings('ignore')\n",
    "# import pandas_profiling as pp # pip3 install pandas-profiling\n",
    "# from IPython.core.display import display,HTML\n",
    "# display(HTML(\"<style>.container{width:100% !important;}</style>\"))\n",
    "# from IPython.core.interactiveshell import InteractiveShell\n",
    "# InteractiveShell.ast_node_interactivity = \"all\""
   ]
  },
  {
   "cell_type": "markdown",
   "metadata": {},
   "source": [
    "<div class=\"alert alert-block alert-info\">\n",
    "<b><font size=\"4\"> Data Acquisition & Exploration</font></b>\n",
    "</div>"
   ]
  },
  {
   "cell_type": "code",
   "execution_count": 2,
   "metadata": {},
   "outputs": [
    {
     "data": {
      "text/html": [
       "<div>\n",
       "<style scoped>\n",
       "    .dataframe tbody tr th:only-of-type {\n",
       "        vertical-align: middle;\n",
       "    }\n",
       "\n",
       "    .dataframe tbody tr th {\n",
       "        vertical-align: top;\n",
       "    }\n",
       "\n",
       "    .dataframe thead th {\n",
       "        text-align: right;\n",
       "    }\n",
       "</style>\n",
       "<table border=\"1\" class=\"dataframe\">\n",
       "  <thead>\n",
       "    <tr style=\"text-align: right;\">\n",
       "      <th></th>\n",
       "      <th>ID</th>\n",
       "      <th>LIMIT_BAL</th>\n",
       "      <th>SEX</th>\n",
       "      <th>EDUCATION</th>\n",
       "      <th>MARRIAGE</th>\n",
       "      <th>AGE</th>\n",
       "      <th>PAY_0</th>\n",
       "      <th>PAY_2</th>\n",
       "      <th>PAY_3</th>\n",
       "      <th>PAY_4</th>\n",
       "      <th>...</th>\n",
       "      <th>BILL_AMT4</th>\n",
       "      <th>BILL_AMT5</th>\n",
       "      <th>BILL_AMT6</th>\n",
       "      <th>PAY_AMT1</th>\n",
       "      <th>PAY_AMT2</th>\n",
       "      <th>PAY_AMT3</th>\n",
       "      <th>PAY_AMT4</th>\n",
       "      <th>PAY_AMT5</th>\n",
       "      <th>PAY_AMT6</th>\n",
       "      <th>default.payment.next.month</th>\n",
       "    </tr>\n",
       "  </thead>\n",
       "  <tbody>\n",
       "    <tr>\n",
       "      <th>0</th>\n",
       "      <td>1</td>\n",
       "      <td>20000.0</td>\n",
       "      <td>2</td>\n",
       "      <td>2</td>\n",
       "      <td>1</td>\n",
       "      <td>24</td>\n",
       "      <td>2</td>\n",
       "      <td>2</td>\n",
       "      <td>-1</td>\n",
       "      <td>-1</td>\n",
       "      <td>...</td>\n",
       "      <td>0.0</td>\n",
       "      <td>0.0</td>\n",
       "      <td>0.0</td>\n",
       "      <td>0.0</td>\n",
       "      <td>689.0</td>\n",
       "      <td>0.0</td>\n",
       "      <td>0.0</td>\n",
       "      <td>0.0</td>\n",
       "      <td>0.0</td>\n",
       "      <td>1</td>\n",
       "    </tr>\n",
       "    <tr>\n",
       "      <th>1</th>\n",
       "      <td>2</td>\n",
       "      <td>120000.0</td>\n",
       "      <td>2</td>\n",
       "      <td>2</td>\n",
       "      <td>2</td>\n",
       "      <td>26</td>\n",
       "      <td>-1</td>\n",
       "      <td>2</td>\n",
       "      <td>0</td>\n",
       "      <td>0</td>\n",
       "      <td>...</td>\n",
       "      <td>3272.0</td>\n",
       "      <td>3455.0</td>\n",
       "      <td>3261.0</td>\n",
       "      <td>0.0</td>\n",
       "      <td>1000.0</td>\n",
       "      <td>1000.0</td>\n",
       "      <td>1000.0</td>\n",
       "      <td>0.0</td>\n",
       "      <td>2000.0</td>\n",
       "      <td>1</td>\n",
       "    </tr>\n",
       "    <tr>\n",
       "      <th>2</th>\n",
       "      <td>3</td>\n",
       "      <td>90000.0</td>\n",
       "      <td>2</td>\n",
       "      <td>2</td>\n",
       "      <td>2</td>\n",
       "      <td>34</td>\n",
       "      <td>0</td>\n",
       "      <td>0</td>\n",
       "      <td>0</td>\n",
       "      <td>0</td>\n",
       "      <td>...</td>\n",
       "      <td>14331.0</td>\n",
       "      <td>14948.0</td>\n",
       "      <td>15549.0</td>\n",
       "      <td>1518.0</td>\n",
       "      <td>1500.0</td>\n",
       "      <td>1000.0</td>\n",
       "      <td>1000.0</td>\n",
       "      <td>1000.0</td>\n",
       "      <td>5000.0</td>\n",
       "      <td>0</td>\n",
       "    </tr>\n",
       "    <tr>\n",
       "      <th>3</th>\n",
       "      <td>4</td>\n",
       "      <td>50000.0</td>\n",
       "      <td>2</td>\n",
       "      <td>2</td>\n",
       "      <td>1</td>\n",
       "      <td>37</td>\n",
       "      <td>0</td>\n",
       "      <td>0</td>\n",
       "      <td>0</td>\n",
       "      <td>0</td>\n",
       "      <td>...</td>\n",
       "      <td>28314.0</td>\n",
       "      <td>28959.0</td>\n",
       "      <td>29547.0</td>\n",
       "      <td>2000.0</td>\n",
       "      <td>2019.0</td>\n",
       "      <td>1200.0</td>\n",
       "      <td>1100.0</td>\n",
       "      <td>1069.0</td>\n",
       "      <td>1000.0</td>\n",
       "      <td>0</td>\n",
       "    </tr>\n",
       "    <tr>\n",
       "      <th>4</th>\n",
       "      <td>5</td>\n",
       "      <td>50000.0</td>\n",
       "      <td>1</td>\n",
       "      <td>2</td>\n",
       "      <td>1</td>\n",
       "      <td>57</td>\n",
       "      <td>-1</td>\n",
       "      <td>0</td>\n",
       "      <td>-1</td>\n",
       "      <td>0</td>\n",
       "      <td>...</td>\n",
       "      <td>20940.0</td>\n",
       "      <td>19146.0</td>\n",
       "      <td>19131.0</td>\n",
       "      <td>2000.0</td>\n",
       "      <td>36681.0</td>\n",
       "      <td>10000.0</td>\n",
       "      <td>9000.0</td>\n",
       "      <td>689.0</td>\n",
       "      <td>679.0</td>\n",
       "      <td>0</td>\n",
       "    </tr>\n",
       "  </tbody>\n",
       "</table>\n",
       "<p>5 rows × 25 columns</p>\n",
       "</div>"
      ],
      "text/plain": [
       "   ID  LIMIT_BAL  SEX  EDUCATION  MARRIAGE  AGE  PAY_0  PAY_2  PAY_3  PAY_4  \\\n",
       "0   1    20000.0    2          2         1   24      2      2     -1     -1   \n",
       "1   2   120000.0    2          2         2   26     -1      2      0      0   \n",
       "2   3    90000.0    2          2         2   34      0      0      0      0   \n",
       "3   4    50000.0    2          2         1   37      0      0      0      0   \n",
       "4   5    50000.0    1          2         1   57     -1      0     -1      0   \n",
       "\n",
       "   ...  BILL_AMT4  BILL_AMT5  BILL_AMT6  PAY_AMT1  PAY_AMT2  PAY_AMT3  \\\n",
       "0  ...        0.0        0.0        0.0       0.0     689.0       0.0   \n",
       "1  ...     3272.0     3455.0     3261.0       0.0    1000.0    1000.0   \n",
       "2  ...    14331.0    14948.0    15549.0    1518.0    1500.0    1000.0   \n",
       "3  ...    28314.0    28959.0    29547.0    2000.0    2019.0    1200.0   \n",
       "4  ...    20940.0    19146.0    19131.0    2000.0   36681.0   10000.0   \n",
       "\n",
       "   PAY_AMT4  PAY_AMT5  PAY_AMT6  default.payment.next.month  \n",
       "0       0.0       0.0       0.0                           1  \n",
       "1    1000.0       0.0    2000.0                           1  \n",
       "2    1000.0    1000.0    5000.0                           0  \n",
       "3    1100.0    1069.0    1000.0                           0  \n",
       "4    9000.0     689.0     679.0                           0  \n",
       "\n",
       "[5 rows x 25 columns]"
      ]
     },
     "execution_count": 2,
     "metadata": {},
     "output_type": "execute_result"
    }
   ],
   "source": [
    "df = pd.read_csv('UCI_Credit_Card.csv')\n",
    "df.shape\n",
    "df.head()"
   ]
  },
  {
   "cell_type": "code",
   "execution_count": 3,
   "metadata": {},
   "outputs": [
    {
     "name": "stdout",
     "output_type": "stream",
     "text": [
      "<class 'pandas.core.frame.DataFrame'>\n",
      "RangeIndex: 30000 entries, 0 to 29999\n",
      "Data columns (total 25 columns):\n",
      "ID                            30000 non-null int64\n",
      "LIMIT_BAL                     30000 non-null float64\n",
      "SEX                           30000 non-null int64\n",
      "EDUCATION                     30000 non-null int64\n",
      "MARRIAGE                      30000 non-null int64\n",
      "AGE                           30000 non-null int64\n",
      "PAY_0                         30000 non-null int64\n",
      "PAY_2                         30000 non-null int64\n",
      "PAY_3                         30000 non-null int64\n",
      "PAY_4                         30000 non-null int64\n",
      "PAY_5                         30000 non-null int64\n",
      "PAY_6                         30000 non-null int64\n",
      "BILL_AMT1                     30000 non-null float64\n",
      "BILL_AMT2                     30000 non-null float64\n",
      "BILL_AMT3                     30000 non-null float64\n",
      "BILL_AMT4                     30000 non-null float64\n",
      "BILL_AMT5                     30000 non-null float64\n",
      "BILL_AMT6                     30000 non-null float64\n",
      "PAY_AMT1                      30000 non-null float64\n",
      "PAY_AMT2                      30000 non-null float64\n",
      "PAY_AMT3                      30000 non-null float64\n",
      "PAY_AMT4                      30000 non-null float64\n",
      "PAY_AMT5                      30000 non-null float64\n",
      "PAY_AMT6                      30000 non-null float64\n",
      "default.payment.next.month    30000 non-null int64\n",
      "dtypes: float64(13), int64(12)\n",
      "memory usage: 5.7 MB\n"
     ]
    }
   ],
   "source": [
    "df.info()"
   ]
  },
  {
   "cell_type": "code",
   "execution_count": 4,
   "metadata": {},
   "outputs": [
    {
     "data": {
      "text/html": [
       "<div>\n",
       "<style scoped>\n",
       "    .dataframe tbody tr th:only-of-type {\n",
       "        vertical-align: middle;\n",
       "    }\n",
       "\n",
       "    .dataframe tbody tr th {\n",
       "        vertical-align: top;\n",
       "    }\n",
       "\n",
       "    .dataframe thead th {\n",
       "        text-align: right;\n",
       "    }\n",
       "</style>\n",
       "<table border=\"1\" class=\"dataframe\">\n",
       "  <thead>\n",
       "    <tr style=\"text-align: right;\">\n",
       "      <th></th>\n",
       "      <th>ID</th>\n",
       "      <th>LIMIT_BAL</th>\n",
       "      <th>SEX</th>\n",
       "      <th>EDUCATION</th>\n",
       "      <th>MARRIAGE</th>\n",
       "      <th>AGE</th>\n",
       "      <th>PAY_0</th>\n",
       "      <th>PAY_2</th>\n",
       "      <th>PAY_3</th>\n",
       "      <th>PAY_4</th>\n",
       "      <th>...</th>\n",
       "      <th>BILL_AMT4</th>\n",
       "      <th>BILL_AMT5</th>\n",
       "      <th>BILL_AMT6</th>\n",
       "      <th>PAY_AMT1</th>\n",
       "      <th>PAY_AMT2</th>\n",
       "      <th>PAY_AMT3</th>\n",
       "      <th>PAY_AMT4</th>\n",
       "      <th>PAY_AMT5</th>\n",
       "      <th>PAY_AMT6</th>\n",
       "      <th>default.payment.next.month</th>\n",
       "    </tr>\n",
       "  </thead>\n",
       "  <tbody>\n",
       "    <tr>\n",
       "      <th>count</th>\n",
       "      <td>30000.000000</td>\n",
       "      <td>30000.000000</td>\n",
       "      <td>30000.000000</td>\n",
       "      <td>30000.000000</td>\n",
       "      <td>30000.000000</td>\n",
       "      <td>30000.000000</td>\n",
       "      <td>30000.000000</td>\n",
       "      <td>30000.000000</td>\n",
       "      <td>30000.000000</td>\n",
       "      <td>30000.000000</td>\n",
       "      <td>...</td>\n",
       "      <td>30000.000000</td>\n",
       "      <td>30000.000000</td>\n",
       "      <td>30000.000000</td>\n",
       "      <td>30000.000000</td>\n",
       "      <td>3.000000e+04</td>\n",
       "      <td>30000.00000</td>\n",
       "      <td>30000.000000</td>\n",
       "      <td>30000.000000</td>\n",
       "      <td>30000.000000</td>\n",
       "      <td>30000.000000</td>\n",
       "    </tr>\n",
       "    <tr>\n",
       "      <th>mean</th>\n",
       "      <td>15000.500000</td>\n",
       "      <td>167484.322667</td>\n",
       "      <td>1.603733</td>\n",
       "      <td>1.853133</td>\n",
       "      <td>1.551867</td>\n",
       "      <td>35.485500</td>\n",
       "      <td>-0.016700</td>\n",
       "      <td>-0.133767</td>\n",
       "      <td>-0.166200</td>\n",
       "      <td>-0.220667</td>\n",
       "      <td>...</td>\n",
       "      <td>43262.948967</td>\n",
       "      <td>40311.400967</td>\n",
       "      <td>38871.760400</td>\n",
       "      <td>5663.580500</td>\n",
       "      <td>5.921163e+03</td>\n",
       "      <td>5225.68150</td>\n",
       "      <td>4826.076867</td>\n",
       "      <td>4799.387633</td>\n",
       "      <td>5215.502567</td>\n",
       "      <td>0.221200</td>\n",
       "    </tr>\n",
       "    <tr>\n",
       "      <th>std</th>\n",
       "      <td>8660.398374</td>\n",
       "      <td>129747.661567</td>\n",
       "      <td>0.489129</td>\n",
       "      <td>0.790349</td>\n",
       "      <td>0.521970</td>\n",
       "      <td>9.217904</td>\n",
       "      <td>1.123802</td>\n",
       "      <td>1.197186</td>\n",
       "      <td>1.196868</td>\n",
       "      <td>1.169139</td>\n",
       "      <td>...</td>\n",
       "      <td>64332.856134</td>\n",
       "      <td>60797.155770</td>\n",
       "      <td>59554.107537</td>\n",
       "      <td>16563.280354</td>\n",
       "      <td>2.304087e+04</td>\n",
       "      <td>17606.96147</td>\n",
       "      <td>15666.159744</td>\n",
       "      <td>15278.305679</td>\n",
       "      <td>17777.465775</td>\n",
       "      <td>0.415062</td>\n",
       "    </tr>\n",
       "    <tr>\n",
       "      <th>min</th>\n",
       "      <td>1.000000</td>\n",
       "      <td>10000.000000</td>\n",
       "      <td>1.000000</td>\n",
       "      <td>0.000000</td>\n",
       "      <td>0.000000</td>\n",
       "      <td>21.000000</td>\n",
       "      <td>-2.000000</td>\n",
       "      <td>-2.000000</td>\n",
       "      <td>-2.000000</td>\n",
       "      <td>-2.000000</td>\n",
       "      <td>...</td>\n",
       "      <td>-170000.000000</td>\n",
       "      <td>-81334.000000</td>\n",
       "      <td>-339603.000000</td>\n",
       "      <td>0.000000</td>\n",
       "      <td>0.000000e+00</td>\n",
       "      <td>0.00000</td>\n",
       "      <td>0.000000</td>\n",
       "      <td>0.000000</td>\n",
       "      <td>0.000000</td>\n",
       "      <td>0.000000</td>\n",
       "    </tr>\n",
       "    <tr>\n",
       "      <th>25%</th>\n",
       "      <td>7500.750000</td>\n",
       "      <td>50000.000000</td>\n",
       "      <td>1.000000</td>\n",
       "      <td>1.000000</td>\n",
       "      <td>1.000000</td>\n",
       "      <td>28.000000</td>\n",
       "      <td>-1.000000</td>\n",
       "      <td>-1.000000</td>\n",
       "      <td>-1.000000</td>\n",
       "      <td>-1.000000</td>\n",
       "      <td>...</td>\n",
       "      <td>2326.750000</td>\n",
       "      <td>1763.000000</td>\n",
       "      <td>1256.000000</td>\n",
       "      <td>1000.000000</td>\n",
       "      <td>8.330000e+02</td>\n",
       "      <td>390.00000</td>\n",
       "      <td>296.000000</td>\n",
       "      <td>252.500000</td>\n",
       "      <td>117.750000</td>\n",
       "      <td>0.000000</td>\n",
       "    </tr>\n",
       "    <tr>\n",
       "      <th>50%</th>\n",
       "      <td>15000.500000</td>\n",
       "      <td>140000.000000</td>\n",
       "      <td>2.000000</td>\n",
       "      <td>2.000000</td>\n",
       "      <td>2.000000</td>\n",
       "      <td>34.000000</td>\n",
       "      <td>0.000000</td>\n",
       "      <td>0.000000</td>\n",
       "      <td>0.000000</td>\n",
       "      <td>0.000000</td>\n",
       "      <td>...</td>\n",
       "      <td>19052.000000</td>\n",
       "      <td>18104.500000</td>\n",
       "      <td>17071.000000</td>\n",
       "      <td>2100.000000</td>\n",
       "      <td>2.009000e+03</td>\n",
       "      <td>1800.00000</td>\n",
       "      <td>1500.000000</td>\n",
       "      <td>1500.000000</td>\n",
       "      <td>1500.000000</td>\n",
       "      <td>0.000000</td>\n",
       "    </tr>\n",
       "    <tr>\n",
       "      <th>75%</th>\n",
       "      <td>22500.250000</td>\n",
       "      <td>240000.000000</td>\n",
       "      <td>2.000000</td>\n",
       "      <td>2.000000</td>\n",
       "      <td>2.000000</td>\n",
       "      <td>41.000000</td>\n",
       "      <td>0.000000</td>\n",
       "      <td>0.000000</td>\n",
       "      <td>0.000000</td>\n",
       "      <td>0.000000</td>\n",
       "      <td>...</td>\n",
       "      <td>54506.000000</td>\n",
       "      <td>50190.500000</td>\n",
       "      <td>49198.250000</td>\n",
       "      <td>5006.000000</td>\n",
       "      <td>5.000000e+03</td>\n",
       "      <td>4505.00000</td>\n",
       "      <td>4013.250000</td>\n",
       "      <td>4031.500000</td>\n",
       "      <td>4000.000000</td>\n",
       "      <td>0.000000</td>\n",
       "    </tr>\n",
       "    <tr>\n",
       "      <th>max</th>\n",
       "      <td>30000.000000</td>\n",
       "      <td>1000000.000000</td>\n",
       "      <td>2.000000</td>\n",
       "      <td>6.000000</td>\n",
       "      <td>3.000000</td>\n",
       "      <td>79.000000</td>\n",
       "      <td>8.000000</td>\n",
       "      <td>8.000000</td>\n",
       "      <td>8.000000</td>\n",
       "      <td>8.000000</td>\n",
       "      <td>...</td>\n",
       "      <td>891586.000000</td>\n",
       "      <td>927171.000000</td>\n",
       "      <td>961664.000000</td>\n",
       "      <td>873552.000000</td>\n",
       "      <td>1.684259e+06</td>\n",
       "      <td>896040.00000</td>\n",
       "      <td>621000.000000</td>\n",
       "      <td>426529.000000</td>\n",
       "      <td>528666.000000</td>\n",
       "      <td>1.000000</td>\n",
       "    </tr>\n",
       "  </tbody>\n",
       "</table>\n",
       "<p>8 rows × 25 columns</p>\n",
       "</div>"
      ],
      "text/plain": [
       "                 ID       LIMIT_BAL           SEX     EDUCATION      MARRIAGE  \\\n",
       "count  30000.000000    30000.000000  30000.000000  30000.000000  30000.000000   \n",
       "mean   15000.500000   167484.322667      1.603733      1.853133      1.551867   \n",
       "std     8660.398374   129747.661567      0.489129      0.790349      0.521970   \n",
       "min        1.000000    10000.000000      1.000000      0.000000      0.000000   \n",
       "25%     7500.750000    50000.000000      1.000000      1.000000      1.000000   \n",
       "50%    15000.500000   140000.000000      2.000000      2.000000      2.000000   \n",
       "75%    22500.250000   240000.000000      2.000000      2.000000      2.000000   \n",
       "max    30000.000000  1000000.000000      2.000000      6.000000      3.000000   \n",
       "\n",
       "                AGE         PAY_0         PAY_2         PAY_3         PAY_4  \\\n",
       "count  30000.000000  30000.000000  30000.000000  30000.000000  30000.000000   \n",
       "mean      35.485500     -0.016700     -0.133767     -0.166200     -0.220667   \n",
       "std        9.217904      1.123802      1.197186      1.196868      1.169139   \n",
       "min       21.000000     -2.000000     -2.000000     -2.000000     -2.000000   \n",
       "25%       28.000000     -1.000000     -1.000000     -1.000000     -1.000000   \n",
       "50%       34.000000      0.000000      0.000000      0.000000      0.000000   \n",
       "75%       41.000000      0.000000      0.000000      0.000000      0.000000   \n",
       "max       79.000000      8.000000      8.000000      8.000000      8.000000   \n",
       "\n",
       "       ...      BILL_AMT4      BILL_AMT5      BILL_AMT6       PAY_AMT1  \\\n",
       "count  ...   30000.000000   30000.000000   30000.000000   30000.000000   \n",
       "mean   ...   43262.948967   40311.400967   38871.760400    5663.580500   \n",
       "std    ...   64332.856134   60797.155770   59554.107537   16563.280354   \n",
       "min    ... -170000.000000  -81334.000000 -339603.000000       0.000000   \n",
       "25%    ...    2326.750000    1763.000000    1256.000000    1000.000000   \n",
       "50%    ...   19052.000000   18104.500000   17071.000000    2100.000000   \n",
       "75%    ...   54506.000000   50190.500000   49198.250000    5006.000000   \n",
       "max    ...  891586.000000  927171.000000  961664.000000  873552.000000   \n",
       "\n",
       "           PAY_AMT2      PAY_AMT3       PAY_AMT4       PAY_AMT5  \\\n",
       "count  3.000000e+04   30000.00000   30000.000000   30000.000000   \n",
       "mean   5.921163e+03    5225.68150    4826.076867    4799.387633   \n",
       "std    2.304087e+04   17606.96147   15666.159744   15278.305679   \n",
       "min    0.000000e+00       0.00000       0.000000       0.000000   \n",
       "25%    8.330000e+02     390.00000     296.000000     252.500000   \n",
       "50%    2.009000e+03    1800.00000    1500.000000    1500.000000   \n",
       "75%    5.000000e+03    4505.00000    4013.250000    4031.500000   \n",
       "max    1.684259e+06  896040.00000  621000.000000  426529.000000   \n",
       "\n",
       "            PAY_AMT6  default.payment.next.month  \n",
       "count   30000.000000                30000.000000  \n",
       "mean     5215.502567                    0.221200  \n",
       "std     17777.465775                    0.415062  \n",
       "min         0.000000                    0.000000  \n",
       "25%       117.750000                    0.000000  \n",
       "50%      1500.000000                    0.000000  \n",
       "75%      4000.000000                    0.000000  \n",
       "max    528666.000000                    1.000000  \n",
       "\n",
       "[8 rows x 25 columns]"
      ]
     },
     "execution_count": 4,
     "metadata": {},
     "output_type": "execute_result"
    }
   ],
   "source": [
    "df.describe()"
   ]
  },
  {
   "cell_type": "markdown",
   "metadata": {},
   "source": [
    "<div class=\"alert alert-block alert-warning\">\n",
    "\n",
    "For default payment:\n",
    "\n",
    "- not default = 0\n",
    "- default = 1\n",
    " \n",
    "The mean of default payment is 0.2212, which means that there are 22.12% of credit card contracts that will default next month. We will analyze more during the model evaluation process.  \n",
    "\n",
    "<div>"
   ]
  },
  {
   "cell_type": "code",
   "execution_count": 5,
   "metadata": {},
   "outputs": [],
   "source": [
    "df.columns = df.columns.str.capitalize() \n",
    "#Converts columns: first character to uppercase and remaining to lowercase."
   ]
  },
  {
   "cell_type": "code",
   "execution_count": 6,
   "metadata": {},
   "outputs": [
    {
     "data": {
      "text/plain": [
       "0"
      ]
     },
     "execution_count": 6,
     "metadata": {},
     "output_type": "execute_result"
    }
   ],
   "source": [
    "df.isnull().sum().sum()"
   ]
  },
  {
   "cell_type": "markdown",
   "metadata": {},
   "source": [
    "<div class=\"alert alert-block alert-info\">\n",
    "<b><font size=\"4\"> Filling missing values across the dataset</font></b>\n",
    "</div>"
   ]
  },
  {
   "cell_type": "code",
   "execution_count": 7,
   "metadata": {},
   "outputs": [
    {
     "name": "stdout",
     "output_type": "stream",
     "text": [
      "<class 'pandas.core.frame.DataFrame'>\n",
      "RangeIndex: 30000 entries, 0 to 29999\n",
      "Data columns (total 25 columns):\n",
      "Id                            28235 non-null float64\n",
      "Limit_bal                     28124 non-null float64\n",
      "Sex                           28260 non-null float64\n",
      "Education                     28208 non-null float64\n",
      "Marriage                      28194 non-null float64\n",
      "Age                           28131 non-null float64\n",
      "Pay_0                         28196 non-null float64\n",
      "Pay_2                         28177 non-null float64\n",
      "Pay_3                         28253 non-null float64\n",
      "Pay_4                         28239 non-null float64\n",
      "Pay_5                         28221 non-null float64\n",
      "Pay_6                         28260 non-null float64\n",
      "Bill_amt1                     28179 non-null float64\n",
      "Bill_amt2                     28176 non-null float64\n",
      "Bill_amt3                     28197 non-null float64\n",
      "Bill_amt4                     28202 non-null float64\n",
      "Bill_amt5                     28226 non-null float64\n",
      "Bill_amt6                     28233 non-null float64\n",
      "Pay_amt1                      28121 non-null float64\n",
      "Pay_amt2                      28265 non-null float64\n",
      "Pay_amt3                      28224 non-null float64\n",
      "Pay_amt4                      28248 non-null float64\n",
      "Pay_amt5                      28195 non-null float64\n",
      "Pay_amt6                      28181 non-null float64\n",
      "Default.payment.next.month    28168 non-null float64\n",
      "dtypes: float64(25)\n",
      "memory usage: 5.7 MB\n"
     ]
    }
   ],
   "source": [
    "mask = np.random.choice([True,False],size=df.shape,p=[0.06,.94])\n",
    "df = df.mask(mask)\n",
    "df.info()"
   ]
  },
  {
   "cell_type": "code",
   "execution_count": 8,
   "metadata": {},
   "outputs": [
    {
     "data": {
      "text/html": [
       "<div>\n",
       "<style scoped>\n",
       "    .dataframe tbody tr th:only-of-type {\n",
       "        vertical-align: middle;\n",
       "    }\n",
       "\n",
       "    .dataframe tbody tr th {\n",
       "        vertical-align: top;\n",
       "    }\n",
       "\n",
       "    .dataframe thead th {\n",
       "        text-align: right;\n",
       "    }\n",
       "</style>\n",
       "<table border=\"1\" class=\"dataframe\">\n",
       "  <thead>\n",
       "    <tr style=\"text-align: right;\">\n",
       "      <th></th>\n",
       "      <th>Total</th>\n",
       "      <th>Percent %</th>\n",
       "    </tr>\n",
       "  </thead>\n",
       "  <tbody>\n",
       "    <tr>\n",
       "      <th>Pay_amt1</th>\n",
       "      <td>1879</td>\n",
       "      <td>6.263333</td>\n",
       "    </tr>\n",
       "    <tr>\n",
       "      <th>Limit_bal</th>\n",
       "      <td>1876</td>\n",
       "      <td>6.253333</td>\n",
       "    </tr>\n",
       "    <tr>\n",
       "      <th>Age</th>\n",
       "      <td>1869</td>\n",
       "      <td>6.230000</td>\n",
       "    </tr>\n",
       "    <tr>\n",
       "      <th>Default.payment.next.month</th>\n",
       "      <td>1832</td>\n",
       "      <td>6.106667</td>\n",
       "    </tr>\n",
       "    <tr>\n",
       "      <th>Bill_amt2</th>\n",
       "      <td>1824</td>\n",
       "      <td>6.080000</td>\n",
       "    </tr>\n",
       "    <tr>\n",
       "      <th>Pay_2</th>\n",
       "      <td>1823</td>\n",
       "      <td>6.076667</td>\n",
       "    </tr>\n",
       "    <tr>\n",
       "      <th>Bill_amt1</th>\n",
       "      <td>1821</td>\n",
       "      <td>6.070000</td>\n",
       "    </tr>\n",
       "    <tr>\n",
       "      <th>Pay_amt6</th>\n",
       "      <td>1819</td>\n",
       "      <td>6.063333</td>\n",
       "    </tr>\n",
       "    <tr>\n",
       "      <th>Marriage</th>\n",
       "      <td>1806</td>\n",
       "      <td>6.020000</td>\n",
       "    </tr>\n",
       "    <tr>\n",
       "      <th>Pay_amt5</th>\n",
       "      <td>1805</td>\n",
       "      <td>6.016667</td>\n",
       "    </tr>\n",
       "    <tr>\n",
       "      <th>Pay_0</th>\n",
       "      <td>1804</td>\n",
       "      <td>6.013333</td>\n",
       "    </tr>\n",
       "    <tr>\n",
       "      <th>Bill_amt3</th>\n",
       "      <td>1803</td>\n",
       "      <td>6.010000</td>\n",
       "    </tr>\n",
       "    <tr>\n",
       "      <th>Bill_amt4</th>\n",
       "      <td>1798</td>\n",
       "      <td>5.993333</td>\n",
       "    </tr>\n",
       "    <tr>\n",
       "      <th>Education</th>\n",
       "      <td>1792</td>\n",
       "      <td>5.973333</td>\n",
       "    </tr>\n",
       "    <tr>\n",
       "      <th>Pay_5</th>\n",
       "      <td>1779</td>\n",
       "      <td>5.930000</td>\n",
       "    </tr>\n",
       "    <tr>\n",
       "      <th>Pay_amt3</th>\n",
       "      <td>1776</td>\n",
       "      <td>5.920000</td>\n",
       "    </tr>\n",
       "    <tr>\n",
       "      <th>Bill_amt5</th>\n",
       "      <td>1774</td>\n",
       "      <td>5.913333</td>\n",
       "    </tr>\n",
       "    <tr>\n",
       "      <th>Bill_amt6</th>\n",
       "      <td>1767</td>\n",
       "      <td>5.890000</td>\n",
       "    </tr>\n",
       "    <tr>\n",
       "      <th>Id</th>\n",
       "      <td>1765</td>\n",
       "      <td>5.883333</td>\n",
       "    </tr>\n",
       "    <tr>\n",
       "      <th>Pay_4</th>\n",
       "      <td>1761</td>\n",
       "      <td>5.870000</td>\n",
       "    </tr>\n",
       "    <tr>\n",
       "      <th>Pay_amt4</th>\n",
       "      <td>1752</td>\n",
       "      <td>5.840000</td>\n",
       "    </tr>\n",
       "    <tr>\n",
       "      <th>Pay_3</th>\n",
       "      <td>1747</td>\n",
       "      <td>5.823333</td>\n",
       "    </tr>\n",
       "    <tr>\n",
       "      <th>Pay_6</th>\n",
       "      <td>1740</td>\n",
       "      <td>5.800000</td>\n",
       "    </tr>\n",
       "    <tr>\n",
       "      <th>Sex</th>\n",
       "      <td>1740</td>\n",
       "      <td>5.800000</td>\n",
       "    </tr>\n",
       "    <tr>\n",
       "      <th>Pay_amt2</th>\n",
       "      <td>1735</td>\n",
       "      <td>5.783333</td>\n",
       "    </tr>\n",
       "  </tbody>\n",
       "</table>\n",
       "</div>"
      ],
      "text/plain": [
       "                            Total  Percent %\n",
       "Pay_amt1                     1879   6.263333\n",
       "Limit_bal                    1876   6.253333\n",
       "Age                          1869   6.230000\n",
       "Default.payment.next.month   1832   6.106667\n",
       "Bill_amt2                    1824   6.080000\n",
       "Pay_2                        1823   6.076667\n",
       "Bill_amt1                    1821   6.070000\n",
       "Pay_amt6                     1819   6.063333\n",
       "Marriage                     1806   6.020000\n",
       "Pay_amt5                     1805   6.016667\n",
       "Pay_0                        1804   6.013333\n",
       "Bill_amt3                    1803   6.010000\n",
       "Bill_amt4                    1798   5.993333\n",
       "Education                    1792   5.973333\n",
       "Pay_5                        1779   5.930000\n",
       "Pay_amt3                     1776   5.920000\n",
       "Bill_amt5                    1774   5.913333\n",
       "Bill_amt6                    1767   5.890000\n",
       "Id                           1765   5.883333\n",
       "Pay_4                        1761   5.870000\n",
       "Pay_amt4                     1752   5.840000\n",
       "Pay_3                        1747   5.823333\n",
       "Pay_6                        1740   5.800000\n",
       "Sex                          1740   5.800000\n",
       "Pay_amt2                     1735   5.783333"
      ]
     },
     "execution_count": 8,
     "metadata": {},
     "output_type": "execute_result"
    }
   ],
   "source": [
    "pd.concat([df.isnull().sum().sort_values(ascending = False),((df.isnull().sum() / len(df))*100).sort_values(ascending = False)],axis = 1,keys = ['Total','Percent %'])"
   ]
  },
  {
   "cell_type": "markdown",
   "metadata": {},
   "source": [
    "<div class=\"alert alert-block alert-info\">\n",
    "<b><font size=\"4\"> Data Pre-Processing</font></b>\n",
    "<div>"
   ]
  },
  {
   "cell_type": "code",
   "execution_count": 9,
   "metadata": {},
   "outputs": [
    {
     "data": {
      "text/html": [
       "<div>\n",
       "<style scoped>\n",
       "    .dataframe tbody tr th:only-of-type {\n",
       "        vertical-align: middle;\n",
       "    }\n",
       "\n",
       "    .dataframe tbody tr th {\n",
       "        vertical-align: top;\n",
       "    }\n",
       "\n",
       "    .dataframe thead th {\n",
       "        text-align: right;\n",
       "    }\n",
       "</style>\n",
       "<table border=\"1\" class=\"dataframe\">\n",
       "  <thead>\n",
       "    <tr style=\"text-align: right;\">\n",
       "      <th></th>\n",
       "      <th>Id</th>\n",
       "      <th>Limit_bal</th>\n",
       "      <th>Sex</th>\n",
       "      <th>Education</th>\n",
       "      <th>Marriage</th>\n",
       "      <th>Age</th>\n",
       "      <th>Pay_0</th>\n",
       "      <th>Pay_2</th>\n",
       "      <th>Pay_3</th>\n",
       "      <th>Pay_4</th>\n",
       "      <th>...</th>\n",
       "      <th>Bill_amt4</th>\n",
       "      <th>Bill_amt5</th>\n",
       "      <th>Bill_amt6</th>\n",
       "      <th>Pay_amt1</th>\n",
       "      <th>Pay_amt2</th>\n",
       "      <th>Pay_amt3</th>\n",
       "      <th>Pay_amt4</th>\n",
       "      <th>Pay_amt5</th>\n",
       "      <th>Pay_amt6</th>\n",
       "      <th>Default.payment.next.month</th>\n",
       "    </tr>\n",
       "  </thead>\n",
       "  <tbody>\n",
       "    <tr>\n",
       "      <th>count</th>\n",
       "      <td>28235.000000</td>\n",
       "      <td>28124.000000</td>\n",
       "      <td>28260.000000</td>\n",
       "      <td>28208.000000</td>\n",
       "      <td>28194.000000</td>\n",
       "      <td>28131.000000</td>\n",
       "      <td>28196.000000</td>\n",
       "      <td>28177.000000</td>\n",
       "      <td>28253.000000</td>\n",
       "      <td>28239.000000</td>\n",
       "      <td>...</td>\n",
       "      <td>28202.000000</td>\n",
       "      <td>28226.000000</td>\n",
       "      <td>28233.000000</td>\n",
       "      <td>28121.000000</td>\n",
       "      <td>2.826500e+04</td>\n",
       "      <td>28224.000000</td>\n",
       "      <td>28248.000000</td>\n",
       "      <td>28195.000000</td>\n",
       "      <td>28181.000000</td>\n",
       "      <td>28168.000000</td>\n",
       "    </tr>\n",
       "    <tr>\n",
       "      <th>mean</th>\n",
       "      <td>15025.128706</td>\n",
       "      <td>167518.478168</td>\n",
       "      <td>1.604459</td>\n",
       "      <td>1.852772</td>\n",
       "      <td>1.551961</td>\n",
       "      <td>35.510398</td>\n",
       "      <td>-0.017343</td>\n",
       "      <td>-0.134187</td>\n",
       "      <td>-0.165469</td>\n",
       "      <td>-0.220157</td>\n",
       "      <td>...</td>\n",
       "      <td>43244.179349</td>\n",
       "      <td>40335.031106</td>\n",
       "      <td>38718.779478</td>\n",
       "      <td>5614.386899</td>\n",
       "      <td>5.857675e+03</td>\n",
       "      <td>5230.680237</td>\n",
       "      <td>4798.940067</td>\n",
       "      <td>4811.888633</td>\n",
       "      <td>5161.179412</td>\n",
       "      <td>0.221528</td>\n",
       "    </tr>\n",
       "    <tr>\n",
       "      <th>std</th>\n",
       "      <td>8657.173533</td>\n",
       "      <td>129620.370369</td>\n",
       "      <td>0.488975</td>\n",
       "      <td>0.790753</td>\n",
       "      <td>0.521872</td>\n",
       "      <td>9.233611</td>\n",
       "      <td>1.122637</td>\n",
       "      <td>1.199322</td>\n",
       "      <td>1.195872</td>\n",
       "      <td>1.169535</td>\n",
       "      <td>...</td>\n",
       "      <td>64302.810403</td>\n",
       "      <td>60829.310391</td>\n",
       "      <td>59506.001798</td>\n",
       "      <td>16389.569064</td>\n",
       "      <td>2.106442e+04</td>\n",
       "      <td>17726.630772</td>\n",
       "      <td>15504.767693</td>\n",
       "      <td>15232.856288</td>\n",
       "      <td>17568.755305</td>\n",
       "      <td>0.415282</td>\n",
       "    </tr>\n",
       "    <tr>\n",
       "      <th>min</th>\n",
       "      <td>1.000000</td>\n",
       "      <td>10000.000000</td>\n",
       "      <td>1.000000</td>\n",
       "      <td>0.000000</td>\n",
       "      <td>0.000000</td>\n",
       "      <td>21.000000</td>\n",
       "      <td>-2.000000</td>\n",
       "      <td>-2.000000</td>\n",
       "      <td>-2.000000</td>\n",
       "      <td>-2.000000</td>\n",
       "      <td>...</td>\n",
       "      <td>-170000.000000</td>\n",
       "      <td>-81334.000000</td>\n",
       "      <td>-339603.000000</td>\n",
       "      <td>0.000000</td>\n",
       "      <td>0.000000e+00</td>\n",
       "      <td>0.000000</td>\n",
       "      <td>0.000000</td>\n",
       "      <td>0.000000</td>\n",
       "      <td>0.000000</td>\n",
       "      <td>0.000000</td>\n",
       "    </tr>\n",
       "    <tr>\n",
       "      <th>25%</th>\n",
       "      <td>7539.500000</td>\n",
       "      <td>50000.000000</td>\n",
       "      <td>1.000000</td>\n",
       "      <td>1.000000</td>\n",
       "      <td>1.000000</td>\n",
       "      <td>28.000000</td>\n",
       "      <td>-1.000000</td>\n",
       "      <td>-1.000000</td>\n",
       "      <td>-1.000000</td>\n",
       "      <td>-1.000000</td>\n",
       "      <td>...</td>\n",
       "      <td>2326.250000</td>\n",
       "      <td>1759.250000</td>\n",
       "      <td>1261.000000</td>\n",
       "      <td>1000.000000</td>\n",
       "      <td>8.270000e+02</td>\n",
       "      <td>390.000000</td>\n",
       "      <td>291.000000</td>\n",
       "      <td>252.000000</td>\n",
       "      <td>118.000000</td>\n",
       "      <td>0.000000</td>\n",
       "    </tr>\n",
       "    <tr>\n",
       "      <th>50%</th>\n",
       "      <td>15025.000000</td>\n",
       "      <td>140000.000000</td>\n",
       "      <td>2.000000</td>\n",
       "      <td>2.000000</td>\n",
       "      <td>2.000000</td>\n",
       "      <td>34.000000</td>\n",
       "      <td>0.000000</td>\n",
       "      <td>0.000000</td>\n",
       "      <td>0.000000</td>\n",
       "      <td>0.000000</td>\n",
       "      <td>...</td>\n",
       "      <td>19012.500000</td>\n",
       "      <td>18105.500000</td>\n",
       "      <td>17011.000000</td>\n",
       "      <td>2108.000000</td>\n",
       "      <td>2.007000e+03</td>\n",
       "      <td>1800.000000</td>\n",
       "      <td>1500.000000</td>\n",
       "      <td>1500.000000</td>\n",
       "      <td>1500.000000</td>\n",
       "      <td>0.000000</td>\n",
       "    </tr>\n",
       "    <tr>\n",
       "      <th>75%</th>\n",
       "      <td>22546.500000</td>\n",
       "      <td>240000.000000</td>\n",
       "      <td>2.000000</td>\n",
       "      <td>2.000000</td>\n",
       "      <td>2.000000</td>\n",
       "      <td>41.000000</td>\n",
       "      <td>0.000000</td>\n",
       "      <td>0.000000</td>\n",
       "      <td>0.000000</td>\n",
       "      <td>0.000000</td>\n",
       "      <td>...</td>\n",
       "      <td>54481.000000</td>\n",
       "      <td>50093.750000</td>\n",
       "      <td>48944.000000</td>\n",
       "      <td>5007.000000</td>\n",
       "      <td>5.000000e+03</td>\n",
       "      <td>4505.500000</td>\n",
       "      <td>4001.000000</td>\n",
       "      <td>4045.500000</td>\n",
       "      <td>4000.000000</td>\n",
       "      <td>0.000000</td>\n",
       "    </tr>\n",
       "    <tr>\n",
       "      <th>max</th>\n",
       "      <td>30000.000000</td>\n",
       "      <td>1000000.000000</td>\n",
       "      <td>2.000000</td>\n",
       "      <td>6.000000</td>\n",
       "      <td>3.000000</td>\n",
       "      <td>79.000000</td>\n",
       "      <td>8.000000</td>\n",
       "      <td>8.000000</td>\n",
       "      <td>8.000000</td>\n",
       "      <td>8.000000</td>\n",
       "      <td>...</td>\n",
       "      <td>891586.000000</td>\n",
       "      <td>927171.000000</td>\n",
       "      <td>961664.000000</td>\n",
       "      <td>873552.000000</td>\n",
       "      <td>1.227082e+06</td>\n",
       "      <td>896040.000000</td>\n",
       "      <td>621000.000000</td>\n",
       "      <td>426529.000000</td>\n",
       "      <td>528666.000000</td>\n",
       "      <td>1.000000</td>\n",
       "    </tr>\n",
       "  </tbody>\n",
       "</table>\n",
       "<p>8 rows × 25 columns</p>\n",
       "</div>"
      ],
      "text/plain": [
       "                 Id       Limit_bal           Sex     Education      Marriage  \\\n",
       "count  28235.000000    28124.000000  28260.000000  28208.000000  28194.000000   \n",
       "mean   15025.128706   167518.478168      1.604459      1.852772      1.551961   \n",
       "std     8657.173533   129620.370369      0.488975      0.790753      0.521872   \n",
       "min        1.000000    10000.000000      1.000000      0.000000      0.000000   \n",
       "25%     7539.500000    50000.000000      1.000000      1.000000      1.000000   \n",
       "50%    15025.000000   140000.000000      2.000000      2.000000      2.000000   \n",
       "75%    22546.500000   240000.000000      2.000000      2.000000      2.000000   \n",
       "max    30000.000000  1000000.000000      2.000000      6.000000      3.000000   \n",
       "\n",
       "                Age         Pay_0         Pay_2         Pay_3         Pay_4  \\\n",
       "count  28131.000000  28196.000000  28177.000000  28253.000000  28239.000000   \n",
       "mean      35.510398     -0.017343     -0.134187     -0.165469     -0.220157   \n",
       "std        9.233611      1.122637      1.199322      1.195872      1.169535   \n",
       "min       21.000000     -2.000000     -2.000000     -2.000000     -2.000000   \n",
       "25%       28.000000     -1.000000     -1.000000     -1.000000     -1.000000   \n",
       "50%       34.000000      0.000000      0.000000      0.000000      0.000000   \n",
       "75%       41.000000      0.000000      0.000000      0.000000      0.000000   \n",
       "max       79.000000      8.000000      8.000000      8.000000      8.000000   \n",
       "\n",
       "       ...      Bill_amt4      Bill_amt5      Bill_amt6       Pay_amt1  \\\n",
       "count  ...   28202.000000   28226.000000   28233.000000   28121.000000   \n",
       "mean   ...   43244.179349   40335.031106   38718.779478    5614.386899   \n",
       "std    ...   64302.810403   60829.310391   59506.001798   16389.569064   \n",
       "min    ... -170000.000000  -81334.000000 -339603.000000       0.000000   \n",
       "25%    ...    2326.250000    1759.250000    1261.000000    1000.000000   \n",
       "50%    ...   19012.500000   18105.500000   17011.000000    2108.000000   \n",
       "75%    ...   54481.000000   50093.750000   48944.000000    5007.000000   \n",
       "max    ...  891586.000000  927171.000000  961664.000000  873552.000000   \n",
       "\n",
       "           Pay_amt2       Pay_amt3       Pay_amt4       Pay_amt5  \\\n",
       "count  2.826500e+04   28224.000000   28248.000000   28195.000000   \n",
       "mean   5.857675e+03    5230.680237    4798.940067    4811.888633   \n",
       "std    2.106442e+04   17726.630772   15504.767693   15232.856288   \n",
       "min    0.000000e+00       0.000000       0.000000       0.000000   \n",
       "25%    8.270000e+02     390.000000     291.000000     252.000000   \n",
       "50%    2.007000e+03    1800.000000    1500.000000    1500.000000   \n",
       "75%    5.000000e+03    4505.500000    4001.000000    4045.500000   \n",
       "max    1.227082e+06  896040.000000  621000.000000  426529.000000   \n",
       "\n",
       "            Pay_amt6  Default.payment.next.month  \n",
       "count   28181.000000                28168.000000  \n",
       "mean     5161.179412                    0.221528  \n",
       "std     17568.755305                    0.415282  \n",
       "min         0.000000                    0.000000  \n",
       "25%       118.000000                    0.000000  \n",
       "50%      1500.000000                    0.000000  \n",
       "75%      4000.000000                    0.000000  \n",
       "max    528666.000000                    1.000000  \n",
       "\n",
       "[8 rows x 25 columns]"
      ]
     },
     "execution_count": 9,
     "metadata": {},
     "output_type": "execute_result"
    }
   ],
   "source": [
    "#before imputation\n",
    "df.describe()"
   ]
  },
  {
   "cell_type": "code",
   "execution_count": 10,
   "metadata": {},
   "outputs": [],
   "source": [
    "# drop id columns\n",
    "df =df.drop(['Id'],axis=1)\n",
    "\n",
    "#KNN-based Missing Value Imputation\n",
    "#Need to have sklearn 0.22v\n",
    "from sklearn.impute import KNNImputer\n",
    "imputer = KNNImputer(n_neighbors=3)\n",
    "df_impute = pd.DataFrame(np.round(imputer.fit_transform(df)),columns = df.columns)\n",
    "df = df_impute"
   ]
  },
  {
   "cell_type": "markdown",
   "metadata": {},
   "source": [
    "<div class=\"alert alert-block alert-warning\">\n",
    "    \n",
    "KNNImputer is computationally least expensive way of Imputing Missing Value. It is more efficient than using mean / median / mode. we will also be dropping the features `id` as they won't be quite useful for our analysis.\n",
    "<div>"
   ]
  },
  {
   "cell_type": "code",
   "execution_count": 11,
   "metadata": {},
   "outputs": [
    {
     "data": {
      "text/html": [
       "<div>\n",
       "<style scoped>\n",
       "    .dataframe tbody tr th:only-of-type {\n",
       "        vertical-align: middle;\n",
       "    }\n",
       "\n",
       "    .dataframe tbody tr th {\n",
       "        vertical-align: top;\n",
       "    }\n",
       "\n",
       "    .dataframe thead th {\n",
       "        text-align: right;\n",
       "    }\n",
       "</style>\n",
       "<table border=\"1\" class=\"dataframe\">\n",
       "  <thead>\n",
       "    <tr style=\"text-align: right;\">\n",
       "      <th></th>\n",
       "      <th>Limit_bal</th>\n",
       "      <th>Sex</th>\n",
       "      <th>Education</th>\n",
       "      <th>Marriage</th>\n",
       "      <th>Age</th>\n",
       "      <th>Pay_0</th>\n",
       "      <th>Pay_2</th>\n",
       "      <th>Pay_3</th>\n",
       "      <th>Pay_4</th>\n",
       "      <th>Pay_5</th>\n",
       "      <th>...</th>\n",
       "      <th>Bill_amt4</th>\n",
       "      <th>Bill_amt5</th>\n",
       "      <th>Bill_amt6</th>\n",
       "      <th>Pay_amt1</th>\n",
       "      <th>Pay_amt2</th>\n",
       "      <th>Pay_amt3</th>\n",
       "      <th>Pay_amt4</th>\n",
       "      <th>Pay_amt5</th>\n",
       "      <th>Pay_amt6</th>\n",
       "      <th>Default.payment.next.month</th>\n",
       "    </tr>\n",
       "  </thead>\n",
       "  <tbody>\n",
       "    <tr>\n",
       "      <th>count</th>\n",
       "      <td>30000.000000</td>\n",
       "      <td>30000.000000</td>\n",
       "      <td>30000.000000</td>\n",
       "      <td>30000.000000</td>\n",
       "      <td>30000.000000</td>\n",
       "      <td>30000.000000</td>\n",
       "      <td>30000.000000</td>\n",
       "      <td>30000.00000</td>\n",
       "      <td>30000.000000</td>\n",
       "      <td>30000.000000</td>\n",
       "      <td>...</td>\n",
       "      <td>30000.000000</td>\n",
       "      <td>30000.000000</td>\n",
       "      <td>30000.000000</td>\n",
       "      <td>30000.000000</td>\n",
       "      <td>3.000000e+04</td>\n",
       "      <td>30000.000000</td>\n",
       "      <td>30000.000000</td>\n",
       "      <td>30000.000000</td>\n",
       "      <td>30000.000000</td>\n",
       "      <td>30000.000000</td>\n",
       "    </tr>\n",
       "    <tr>\n",
       "      <th>mean</th>\n",
       "      <td>166897.611200</td>\n",
       "      <td>1.606400</td>\n",
       "      <td>1.852567</td>\n",
       "      <td>1.552400</td>\n",
       "      <td>35.507867</td>\n",
       "      <td>-0.014167</td>\n",
       "      <td>-0.132867</td>\n",
       "      <td>-0.16480</td>\n",
       "      <td>-0.220167</td>\n",
       "      <td>-0.265467</td>\n",
       "      <td>...</td>\n",
       "      <td>43162.364767</td>\n",
       "      <td>40321.426900</td>\n",
       "      <td>38878.276033</td>\n",
       "      <td>5490.024533</td>\n",
       "      <td>5.737169e+03</td>\n",
       "      <td>5107.898233</td>\n",
       "      <td>4708.726633</td>\n",
       "      <td>4706.309267</td>\n",
       "      <td>5104.003933</td>\n",
       "      <td>0.216567</td>\n",
       "    </tr>\n",
       "    <tr>\n",
       "      <th>std</th>\n",
       "      <td>127771.167533</td>\n",
       "      <td>0.488556</td>\n",
       "      <td>0.778578</td>\n",
       "      <td>0.520381</td>\n",
       "      <td>9.042629</td>\n",
       "      <td>1.108516</td>\n",
       "      <td>1.188498</td>\n",
       "      <td>1.18764</td>\n",
       "      <td>1.159916</td>\n",
       "      <td>1.123463</td>\n",
       "      <td>...</td>\n",
       "      <td>64106.030931</td>\n",
       "      <td>60798.105996</td>\n",
       "      <td>59484.335845</td>\n",
       "      <td>15950.383589</td>\n",
       "      <td>2.050127e+04</td>\n",
       "      <td>17245.959238</td>\n",
       "      <td>15123.964044</td>\n",
       "      <td>14830.633619</td>\n",
       "      <td>17185.784582</td>\n",
       "      <td>0.411912</td>\n",
       "    </tr>\n",
       "    <tr>\n",
       "      <th>min</th>\n",
       "      <td>10000.000000</td>\n",
       "      <td>1.000000</td>\n",
       "      <td>0.000000</td>\n",
       "      <td>0.000000</td>\n",
       "      <td>21.000000</td>\n",
       "      <td>-2.000000</td>\n",
       "      <td>-2.000000</td>\n",
       "      <td>-2.00000</td>\n",
       "      <td>-2.000000</td>\n",
       "      <td>-2.000000</td>\n",
       "      <td>...</td>\n",
       "      <td>-170000.000000</td>\n",
       "      <td>-81334.000000</td>\n",
       "      <td>-339603.000000</td>\n",
       "      <td>0.000000</td>\n",
       "      <td>0.000000e+00</td>\n",
       "      <td>0.000000</td>\n",
       "      <td>0.000000</td>\n",
       "      <td>0.000000</td>\n",
       "      <td>0.000000</td>\n",
       "      <td>0.000000</td>\n",
       "    </tr>\n",
       "    <tr>\n",
       "      <th>25%</th>\n",
       "      <td>56667.000000</td>\n",
       "      <td>1.000000</td>\n",
       "      <td>1.000000</td>\n",
       "      <td>1.000000</td>\n",
       "      <td>28.000000</td>\n",
       "      <td>-1.000000</td>\n",
       "      <td>-1.000000</td>\n",
       "      <td>-1.00000</td>\n",
       "      <td>-1.000000</td>\n",
       "      <td>-1.000000</td>\n",
       "      <td>...</td>\n",
       "      <td>2340.000000</td>\n",
       "      <td>1759.750000</td>\n",
       "      <td>1289.000000</td>\n",
       "      <td>1000.000000</td>\n",
       "      <td>8.800000e+02</td>\n",
       "      <td>416.000000</td>\n",
       "      <td>316.000000</td>\n",
       "      <td>300.000000</td>\n",
       "      <td>206.750000</td>\n",
       "      <td>0.000000</td>\n",
       "    </tr>\n",
       "    <tr>\n",
       "      <th>50%</th>\n",
       "      <td>140000.000000</td>\n",
       "      <td>2.000000</td>\n",
       "      <td>2.000000</td>\n",
       "      <td>2.000000</td>\n",
       "      <td>34.000000</td>\n",
       "      <td>0.000000</td>\n",
       "      <td>0.000000</td>\n",
       "      <td>0.00000</td>\n",
       "      <td>0.000000</td>\n",
       "      <td>0.000000</td>\n",
       "      <td>...</td>\n",
       "      <td>19036.500000</td>\n",
       "      <td>18077.500000</td>\n",
       "      <td>17071.000000</td>\n",
       "      <td>2106.000000</td>\n",
       "      <td>2.010000e+03</td>\n",
       "      <td>1800.000000</td>\n",
       "      <td>1500.000000</td>\n",
       "      <td>1500.000000</td>\n",
       "      <td>1500.000000</td>\n",
       "      <td>0.000000</td>\n",
       "    </tr>\n",
       "    <tr>\n",
       "      <th>75%</th>\n",
       "      <td>240000.000000</td>\n",
       "      <td>2.000000</td>\n",
       "      <td>2.000000</td>\n",
       "      <td>2.000000</td>\n",
       "      <td>41.000000</td>\n",
       "      <td>0.000000</td>\n",
       "      <td>0.000000</td>\n",
       "      <td>0.00000</td>\n",
       "      <td>0.000000</td>\n",
       "      <td>0.000000</td>\n",
       "      <td>...</td>\n",
       "      <td>54289.000000</td>\n",
       "      <td>50099.000000</td>\n",
       "      <td>49204.250000</td>\n",
       "      <td>5000.000000</td>\n",
       "      <td>5.000000e+03</td>\n",
       "      <td>4500.000000</td>\n",
       "      <td>4000.000000</td>\n",
       "      <td>4010.000000</td>\n",
       "      <td>4000.000000</td>\n",
       "      <td>0.000000</td>\n",
       "    </tr>\n",
       "    <tr>\n",
       "      <th>max</th>\n",
       "      <td>1000000.000000</td>\n",
       "      <td>2.000000</td>\n",
       "      <td>6.000000</td>\n",
       "      <td>3.000000</td>\n",
       "      <td>79.000000</td>\n",
       "      <td>8.000000</td>\n",
       "      <td>8.000000</td>\n",
       "      <td>8.00000</td>\n",
       "      <td>8.000000</td>\n",
       "      <td>8.000000</td>\n",
       "      <td>...</td>\n",
       "      <td>891586.000000</td>\n",
       "      <td>927171.000000</td>\n",
       "      <td>961664.000000</td>\n",
       "      <td>873552.000000</td>\n",
       "      <td>1.227082e+06</td>\n",
       "      <td>896040.000000</td>\n",
       "      <td>621000.000000</td>\n",
       "      <td>426529.000000</td>\n",
       "      <td>528666.000000</td>\n",
       "      <td>1.000000</td>\n",
       "    </tr>\n",
       "  </tbody>\n",
       "</table>\n",
       "<p>8 rows × 24 columns</p>\n",
       "</div>"
      ],
      "text/plain": [
       "            Limit_bal           Sex     Education      Marriage           Age  \\\n",
       "count    30000.000000  30000.000000  30000.000000  30000.000000  30000.000000   \n",
       "mean    166897.611200      1.606400      1.852567      1.552400     35.507867   \n",
       "std     127771.167533      0.488556      0.778578      0.520381      9.042629   \n",
       "min      10000.000000      1.000000      0.000000      0.000000     21.000000   \n",
       "25%      56667.000000      1.000000      1.000000      1.000000     28.000000   \n",
       "50%     140000.000000      2.000000      2.000000      2.000000     34.000000   \n",
       "75%     240000.000000      2.000000      2.000000      2.000000     41.000000   \n",
       "max    1000000.000000      2.000000      6.000000      3.000000     79.000000   \n",
       "\n",
       "              Pay_0         Pay_2        Pay_3         Pay_4         Pay_5  \\\n",
       "count  30000.000000  30000.000000  30000.00000  30000.000000  30000.000000   \n",
       "mean      -0.014167     -0.132867     -0.16480     -0.220167     -0.265467   \n",
       "std        1.108516      1.188498      1.18764      1.159916      1.123463   \n",
       "min       -2.000000     -2.000000     -2.00000     -2.000000     -2.000000   \n",
       "25%       -1.000000     -1.000000     -1.00000     -1.000000     -1.000000   \n",
       "50%        0.000000      0.000000      0.00000      0.000000      0.000000   \n",
       "75%        0.000000      0.000000      0.00000      0.000000      0.000000   \n",
       "max        8.000000      8.000000      8.00000      8.000000      8.000000   \n",
       "\n",
       "       ...      Bill_amt4      Bill_amt5      Bill_amt6       Pay_amt1  \\\n",
       "count  ...   30000.000000   30000.000000   30000.000000   30000.000000   \n",
       "mean   ...   43162.364767   40321.426900   38878.276033    5490.024533   \n",
       "std    ...   64106.030931   60798.105996   59484.335845   15950.383589   \n",
       "min    ... -170000.000000  -81334.000000 -339603.000000       0.000000   \n",
       "25%    ...    2340.000000    1759.750000    1289.000000    1000.000000   \n",
       "50%    ...   19036.500000   18077.500000   17071.000000    2106.000000   \n",
       "75%    ...   54289.000000   50099.000000   49204.250000    5000.000000   \n",
       "max    ...  891586.000000  927171.000000  961664.000000  873552.000000   \n",
       "\n",
       "           Pay_amt2       Pay_amt3       Pay_amt4       Pay_amt5  \\\n",
       "count  3.000000e+04   30000.000000   30000.000000   30000.000000   \n",
       "mean   5.737169e+03    5107.898233    4708.726633    4706.309267   \n",
       "std    2.050127e+04   17245.959238   15123.964044   14830.633619   \n",
       "min    0.000000e+00       0.000000       0.000000       0.000000   \n",
       "25%    8.800000e+02     416.000000     316.000000     300.000000   \n",
       "50%    2.010000e+03    1800.000000    1500.000000    1500.000000   \n",
       "75%    5.000000e+03    4500.000000    4000.000000    4010.000000   \n",
       "max    1.227082e+06  896040.000000  621000.000000  426529.000000   \n",
       "\n",
       "            Pay_amt6  Default.payment.next.month  \n",
       "count   30000.000000                30000.000000  \n",
       "mean     5104.003933                    0.216567  \n",
       "std     17185.784582                    0.411912  \n",
       "min         0.000000                    0.000000  \n",
       "25%       206.750000                    0.000000  \n",
       "50%      1500.000000                    0.000000  \n",
       "75%      4000.000000                    0.000000  \n",
       "max    528666.000000                    1.000000  \n",
       "\n",
       "[8 rows x 24 columns]"
      ]
     },
     "execution_count": 11,
     "metadata": {},
     "output_type": "execute_result"
    }
   ],
   "source": [
    "#after imputation\n",
    "df.describe()"
   ]
  },
  {
   "cell_type": "code",
   "execution_count": 12,
   "metadata": {},
   "outputs": [],
   "source": [
    "df = df.rename(columns={'Default.payment.next.month': 'Default_pay','Pay_0': 'Pay_1'})\n",
    "#Rename target variable to default_pay and Pay_0 to Pay_1"
   ]
  },
  {
   "cell_type": "code",
   "execution_count": 13,
   "metadata": {},
   "outputs": [
    {
     "data": {
      "text/html": [
       "<div>\n",
       "<style scoped>\n",
       "    .dataframe tbody tr th:only-of-type {\n",
       "        vertical-align: middle;\n",
       "    }\n",
       "\n",
       "    .dataframe tbody tr th {\n",
       "        vertical-align: top;\n",
       "    }\n",
       "\n",
       "    .dataframe thead th {\n",
       "        text-align: right;\n",
       "    }\n",
       "</style>\n",
       "<table border=\"1\" class=\"dataframe\">\n",
       "  <thead>\n",
       "    <tr style=\"text-align: right;\">\n",
       "      <th></th>\n",
       "      <th>Limit_bal</th>\n",
       "      <th>Sex</th>\n",
       "      <th>Education</th>\n",
       "      <th>Marriage</th>\n",
       "      <th>Age</th>\n",
       "      <th>Pay_1</th>\n",
       "      <th>Pay_2</th>\n",
       "      <th>Pay_3</th>\n",
       "      <th>Pay_4</th>\n",
       "      <th>Pay_5</th>\n",
       "      <th>...</th>\n",
       "      <th>Bill_amt4</th>\n",
       "      <th>Bill_amt5</th>\n",
       "      <th>Bill_amt6</th>\n",
       "      <th>Pay_amt1</th>\n",
       "      <th>Pay_amt2</th>\n",
       "      <th>Pay_amt3</th>\n",
       "      <th>Pay_amt4</th>\n",
       "      <th>Pay_amt5</th>\n",
       "      <th>Pay_amt6</th>\n",
       "      <th>Default_pay</th>\n",
       "    </tr>\n",
       "  </thead>\n",
       "  <tbody>\n",
       "    <tr>\n",
       "      <th>0</th>\n",
       "      <td>20000.0</td>\n",
       "      <td>2.0</td>\n",
       "      <td>2.0</td>\n",
       "      <td>1.0</td>\n",
       "      <td>24.0</td>\n",
       "      <td>2.0</td>\n",
       "      <td>2.0</td>\n",
       "      <td>-2.0</td>\n",
       "      <td>-1.0</td>\n",
       "      <td>-2.0</td>\n",
       "      <td>...</td>\n",
       "      <td>0.0</td>\n",
       "      <td>0.0</td>\n",
       "      <td>0.0</td>\n",
       "      <td>0.0</td>\n",
       "      <td>689.0</td>\n",
       "      <td>0.0</td>\n",
       "      <td>0.0</td>\n",
       "      <td>0.0</td>\n",
       "      <td>0.0</td>\n",
       "      <td>1.0</td>\n",
       "    </tr>\n",
       "    <tr>\n",
       "      <th>1</th>\n",
       "      <td>120000.0</td>\n",
       "      <td>2.0</td>\n",
       "      <td>2.0</td>\n",
       "      <td>2.0</td>\n",
       "      <td>26.0</td>\n",
       "      <td>-1.0</td>\n",
       "      <td>2.0</td>\n",
       "      <td>0.0</td>\n",
       "      <td>0.0</td>\n",
       "      <td>0.0</td>\n",
       "      <td>...</td>\n",
       "      <td>3272.0</td>\n",
       "      <td>3455.0</td>\n",
       "      <td>3261.0</td>\n",
       "      <td>0.0</td>\n",
       "      <td>1000.0</td>\n",
       "      <td>1000.0</td>\n",
       "      <td>1000.0</td>\n",
       "      <td>0.0</td>\n",
       "      <td>2000.0</td>\n",
       "      <td>1.0</td>\n",
       "    </tr>\n",
       "    <tr>\n",
       "      <th>2</th>\n",
       "      <td>90000.0</td>\n",
       "      <td>2.0</td>\n",
       "      <td>2.0</td>\n",
       "      <td>2.0</td>\n",
       "      <td>34.0</td>\n",
       "      <td>1.0</td>\n",
       "      <td>0.0</td>\n",
       "      <td>0.0</td>\n",
       "      <td>0.0</td>\n",
       "      <td>0.0</td>\n",
       "      <td>...</td>\n",
       "      <td>14331.0</td>\n",
       "      <td>14948.0</td>\n",
       "      <td>15549.0</td>\n",
       "      <td>1518.0</td>\n",
       "      <td>1500.0</td>\n",
       "      <td>1000.0</td>\n",
       "      <td>1000.0</td>\n",
       "      <td>1000.0</td>\n",
       "      <td>5000.0</td>\n",
       "      <td>0.0</td>\n",
       "    </tr>\n",
       "    <tr>\n",
       "      <th>3</th>\n",
       "      <td>50000.0</td>\n",
       "      <td>2.0</td>\n",
       "      <td>2.0</td>\n",
       "      <td>1.0</td>\n",
       "      <td>37.0</td>\n",
       "      <td>0.0</td>\n",
       "      <td>0.0</td>\n",
       "      <td>0.0</td>\n",
       "      <td>0.0</td>\n",
       "      <td>0.0</td>\n",
       "      <td>...</td>\n",
       "      <td>28314.0</td>\n",
       "      <td>28959.0</td>\n",
       "      <td>29547.0</td>\n",
       "      <td>2000.0</td>\n",
       "      <td>2019.0</td>\n",
       "      <td>1200.0</td>\n",
       "      <td>1100.0</td>\n",
       "      <td>1069.0</td>\n",
       "      <td>1000.0</td>\n",
       "      <td>0.0</td>\n",
       "    </tr>\n",
       "    <tr>\n",
       "      <th>4</th>\n",
       "      <td>50000.0</td>\n",
       "      <td>1.0</td>\n",
       "      <td>2.0</td>\n",
       "      <td>1.0</td>\n",
       "      <td>57.0</td>\n",
       "      <td>-1.0</td>\n",
       "      <td>0.0</td>\n",
       "      <td>-1.0</td>\n",
       "      <td>0.0</td>\n",
       "      <td>-0.0</td>\n",
       "      <td>...</td>\n",
       "      <td>20940.0</td>\n",
       "      <td>19146.0</td>\n",
       "      <td>19131.0</td>\n",
       "      <td>2000.0</td>\n",
       "      <td>36681.0</td>\n",
       "      <td>10000.0</td>\n",
       "      <td>9000.0</td>\n",
       "      <td>689.0</td>\n",
       "      <td>679.0</td>\n",
       "      <td>0.0</td>\n",
       "    </tr>\n",
       "    <tr>\n",
       "      <th>...</th>\n",
       "      <td>...</td>\n",
       "      <td>...</td>\n",
       "      <td>...</td>\n",
       "      <td>...</td>\n",
       "      <td>...</td>\n",
       "      <td>...</td>\n",
       "      <td>...</td>\n",
       "      <td>...</td>\n",
       "      <td>...</td>\n",
       "      <td>...</td>\n",
       "      <td>...</td>\n",
       "      <td>...</td>\n",
       "      <td>...</td>\n",
       "      <td>...</td>\n",
       "      <td>...</td>\n",
       "      <td>...</td>\n",
       "      <td>...</td>\n",
       "      <td>...</td>\n",
       "      <td>...</td>\n",
       "      <td>...</td>\n",
       "      <td>...</td>\n",
       "    </tr>\n",
       "    <tr>\n",
       "      <th>95</th>\n",
       "      <td>90000.0</td>\n",
       "      <td>1.0</td>\n",
       "      <td>2.0</td>\n",
       "      <td>2.0</td>\n",
       "      <td>35.0</td>\n",
       "      <td>0.0</td>\n",
       "      <td>0.0</td>\n",
       "      <td>0.0</td>\n",
       "      <td>0.0</td>\n",
       "      <td>0.0</td>\n",
       "      <td>...</td>\n",
       "      <td>55325.0</td>\n",
       "      <td>42915.0</td>\n",
       "      <td>30835.0</td>\n",
       "      <td>3621.0</td>\n",
       "      <td>3597.0</td>\n",
       "      <td>1179.0</td>\n",
       "      <td>1112.0</td>\n",
       "      <td>1104.0</td>\n",
       "      <td>1143.0</td>\n",
       "      <td>0.0</td>\n",
       "    </tr>\n",
       "    <tr>\n",
       "      <th>96</th>\n",
       "      <td>360000.0</td>\n",
       "      <td>1.0</td>\n",
       "      <td>1.0</td>\n",
       "      <td>1.0</td>\n",
       "      <td>43.0</td>\n",
       "      <td>-1.0</td>\n",
       "      <td>-1.0</td>\n",
       "      <td>-1.0</td>\n",
       "      <td>-1.0</td>\n",
       "      <td>-1.0</td>\n",
       "      <td>...</td>\n",
       "      <td>6451.0</td>\n",
       "      <td>26370.0</td>\n",
       "      <td>9956.0</td>\n",
       "      <td>8339.0</td>\n",
       "      <td>3394.0</td>\n",
       "      <td>12902.0</td>\n",
       "      <td>27000.0</td>\n",
       "      <td>0.0</td>\n",
       "      <td>68978.0</td>\n",
       "      <td>0.0</td>\n",
       "    </tr>\n",
       "    <tr>\n",
       "      <th>97</th>\n",
       "      <td>150000.0</td>\n",
       "      <td>1.0</td>\n",
       "      <td>1.0</td>\n",
       "      <td>2.0</td>\n",
       "      <td>27.0</td>\n",
       "      <td>0.0</td>\n",
       "      <td>0.0</td>\n",
       "      <td>0.0</td>\n",
       "      <td>0.0</td>\n",
       "      <td>0.0</td>\n",
       "      <td>...</td>\n",
       "      <td>89775.0</td>\n",
       "      <td>87725.0</td>\n",
       "      <td>40788.0</td>\n",
       "      <td>4031.0</td>\n",
       "      <td>10006.0</td>\n",
       "      <td>3266.0</td>\n",
       "      <td>4040.0</td>\n",
       "      <td>1698.0</td>\n",
       "      <td>800.0</td>\n",
       "      <td>0.0</td>\n",
       "    </tr>\n",
       "    <tr>\n",
       "      <th>98</th>\n",
       "      <td>50000.0</td>\n",
       "      <td>2.0</td>\n",
       "      <td>3.0</td>\n",
       "      <td>1.0</td>\n",
       "      <td>22.0</td>\n",
       "      <td>0.0</td>\n",
       "      <td>0.0</td>\n",
       "      <td>0.0</td>\n",
       "      <td>0.0</td>\n",
       "      <td>0.0</td>\n",
       "      <td>...</td>\n",
       "      <td>13150.0</td>\n",
       "      <td>8866.0</td>\n",
       "      <td>6666.0</td>\n",
       "      <td>1411.0</td>\n",
       "      <td>1194.0</td>\n",
       "      <td>379.0</td>\n",
       "      <td>281.0</td>\n",
       "      <td>321.0</td>\n",
       "      <td>197.0</td>\n",
       "      <td>0.0</td>\n",
       "    </tr>\n",
       "    <tr>\n",
       "      <th>99</th>\n",
       "      <td>20000.0</td>\n",
       "      <td>1.0</td>\n",
       "      <td>2.0</td>\n",
       "      <td>1.0</td>\n",
       "      <td>38.0</td>\n",
       "      <td>0.0</td>\n",
       "      <td>0.0</td>\n",
       "      <td>1.0</td>\n",
       "      <td>0.0</td>\n",
       "      <td>0.0</td>\n",
       "      <td>...</td>\n",
       "      <td>18240.0</td>\n",
       "      <td>17928.0</td>\n",
       "      <td>150.0</td>\n",
       "      <td>1699.0</td>\n",
       "      <td>1460.0</td>\n",
       "      <td>696.0</td>\n",
       "      <td>1750.0</td>\n",
       "      <td>150.0</td>\n",
       "      <td>0.0</td>\n",
       "      <td>1.0</td>\n",
       "    </tr>\n",
       "  </tbody>\n",
       "</table>\n",
       "<p>100 rows × 24 columns</p>\n",
       "</div>"
      ],
      "text/plain": [
       "    Limit_bal  Sex  Education  Marriage   Age  Pay_1  Pay_2  Pay_3  Pay_4  \\\n",
       "0     20000.0  2.0        2.0       1.0  24.0    2.0    2.0   -2.0   -1.0   \n",
       "1    120000.0  2.0        2.0       2.0  26.0   -1.0    2.0    0.0    0.0   \n",
       "2     90000.0  2.0        2.0       2.0  34.0    1.0    0.0    0.0    0.0   \n",
       "3     50000.0  2.0        2.0       1.0  37.0    0.0    0.0    0.0    0.0   \n",
       "4     50000.0  1.0        2.0       1.0  57.0   -1.0    0.0   -1.0    0.0   \n",
       "..        ...  ...        ...       ...   ...    ...    ...    ...    ...   \n",
       "95    90000.0  1.0        2.0       2.0  35.0    0.0    0.0    0.0    0.0   \n",
       "96   360000.0  1.0        1.0       1.0  43.0   -1.0   -1.0   -1.0   -1.0   \n",
       "97   150000.0  1.0        1.0       2.0  27.0    0.0    0.0    0.0    0.0   \n",
       "98    50000.0  2.0        3.0       1.0  22.0    0.0    0.0    0.0    0.0   \n",
       "99    20000.0  1.0        2.0       1.0  38.0    0.0    0.0    1.0    0.0   \n",
       "\n",
       "    Pay_5  ...  Bill_amt4  Bill_amt5  Bill_amt6  Pay_amt1  Pay_amt2  Pay_amt3  \\\n",
       "0    -2.0  ...        0.0        0.0        0.0       0.0     689.0       0.0   \n",
       "1     0.0  ...     3272.0     3455.0     3261.0       0.0    1000.0    1000.0   \n",
       "2     0.0  ...    14331.0    14948.0    15549.0    1518.0    1500.0    1000.0   \n",
       "3     0.0  ...    28314.0    28959.0    29547.0    2000.0    2019.0    1200.0   \n",
       "4    -0.0  ...    20940.0    19146.0    19131.0    2000.0   36681.0   10000.0   \n",
       "..    ...  ...        ...        ...        ...       ...       ...       ...   \n",
       "95    0.0  ...    55325.0    42915.0    30835.0    3621.0    3597.0    1179.0   \n",
       "96   -1.0  ...     6451.0    26370.0     9956.0    8339.0    3394.0   12902.0   \n",
       "97    0.0  ...    89775.0    87725.0    40788.0    4031.0   10006.0    3266.0   \n",
       "98    0.0  ...    13150.0     8866.0     6666.0    1411.0    1194.0     379.0   \n",
       "99    0.0  ...    18240.0    17928.0      150.0    1699.0    1460.0     696.0   \n",
       "\n",
       "    Pay_amt4  Pay_amt5  Pay_amt6  Default_pay  \n",
       "0        0.0       0.0       0.0          1.0  \n",
       "1     1000.0       0.0    2000.0          1.0  \n",
       "2     1000.0    1000.0    5000.0          0.0  \n",
       "3     1100.0    1069.0    1000.0          0.0  \n",
       "4     9000.0     689.0     679.0          0.0  \n",
       "..       ...       ...       ...          ...  \n",
       "95    1112.0    1104.0    1143.0          0.0  \n",
       "96   27000.0       0.0   68978.0          0.0  \n",
       "97    4040.0    1698.0     800.0          0.0  \n",
       "98     281.0     321.0     197.0          0.0  \n",
       "99    1750.0     150.0       0.0          1.0  \n",
       "\n",
       "[100 rows x 24 columns]"
      ]
     },
     "execution_count": 13,
     "metadata": {},
     "output_type": "execute_result"
    }
   ],
   "source": [
    "df.head(100)"
   ]
  },
  {
   "cell_type": "code",
   "execution_count": 14,
   "metadata": {},
   "outputs": [
    {
     "data": {
      "text/plain": [
       "array([2., 1., 3., 5., 4., 6., 0.])"
      ]
     },
     "execution_count": 14,
     "metadata": {},
     "output_type": "execute_result"
    }
   ],
   "source": [
    "# Marriage has a label 0 that is undocumented (1=married, 2=single, 3=others)\n",
    "df['Marriage'].unique()\n",
    "\n",
    "# Education has category 5 and 6 that are unlabelled and category 0 is undocumented.\n",
    "# (1=graduate school, 2=university, 3=high school, 4=others, 5=unknown, 6=unknown)\n",
    "df['Education'].unique()"
   ]
  },
  {
   "cell_type": "code",
   "execution_count": 15,
   "metadata": {},
   "outputs": [],
   "source": [
    "df['Marriage']=np.where(df['Marriage'] == 0, 3, df['Marriage'])\n",
    "df['Education']=np.where(df['Education'] == 5, 4, df['Education'])\n",
    "df['Education']=np.where(df['Education'] == 6, 4, df['Education'])\n",
    "df['Education']=np.where(df['Education'] == 0, 4, df['Education'])\n",
    "#assign all undocumented or unknown labels to others"
   ]
  },
  {
   "cell_type": "code",
   "execution_count": 16,
   "metadata": {},
   "outputs": [
    {
     "data": {
      "text/plain": [
       "array([ 2., -1.,  1.,  0., -2.,  3.,  4.,  8.,  7.,  5.,  6.])"
      ]
     },
     "execution_count": 16,
     "metadata": {},
     "output_type": "execute_result"
    }
   ],
   "source": [
    "df['Pay_1'].unique()\n",
    "# -1 is pay duly and -2 is an undocumented label -2. \n",
    "# If 1,2,3, etc are the months of delay, 0 should be labeled 'pay duly' and every negative value should be seen as a 0"
   ]
  },
  {
   "cell_type": "code",
   "execution_count": 17,
   "metadata": {},
   "outputs": [],
   "source": [
    "for i in range(1,7):\n",
    "    payduly = (df[f\"Pay_{i}\"] == -2) | (df[f\"Pay_{i}\"] == -1)\n",
    "    df.loc[payduly, f\"Pay_{i}\"] = 0"
   ]
  },
  {
   "cell_type": "code",
   "execution_count": 18,
   "metadata": {},
   "outputs": [],
   "source": [
    "# #Alternative 2\n",
    "# for i in range(1,7):\n",
    "#     df[f\"Pay_{i}\"].replace([-2,-1],[0,0])"
   ]
  },
  {
   "cell_type": "code",
   "execution_count": 19,
   "metadata": {},
   "outputs": [
    {
     "data": {
      "text/plain": [
       "array([2., 0., 1., 3., 4., 8., 7., 5., 6.])"
      ]
     },
     "execution_count": 19,
     "metadata": {},
     "output_type": "execute_result"
    }
   ],
   "source": [
    "df['Pay_1'].unique()\n",
    "#Check whether negative payduly has changed to 0"
   ]
  },
  {
   "cell_type": "code",
   "execution_count": 20,
   "metadata": {},
   "outputs": [
    {
     "data": {
      "text/html": [
       "<div>\n",
       "<style scoped>\n",
       "    .dataframe tbody tr th:only-of-type {\n",
       "        vertical-align: middle;\n",
       "    }\n",
       "\n",
       "    .dataframe tbody tr th {\n",
       "        vertical-align: top;\n",
       "    }\n",
       "\n",
       "    .dataframe thead th {\n",
       "        text-align: right;\n",
       "    }\n",
       "</style>\n",
       "<table border=\"1\" class=\"dataframe\">\n",
       "  <thead>\n",
       "    <tr style=\"text-align: right;\">\n",
       "      <th></th>\n",
       "      <th>Limit_bal</th>\n",
       "      <th>Sex</th>\n",
       "      <th>Education</th>\n",
       "      <th>Marriage</th>\n",
       "      <th>Age</th>\n",
       "      <th>Pay_1</th>\n",
       "      <th>Pay_2</th>\n",
       "      <th>Pay_3</th>\n",
       "      <th>Pay_4</th>\n",
       "      <th>Pay_5</th>\n",
       "      <th>...</th>\n",
       "      <th>Bill_amt4</th>\n",
       "      <th>Bill_amt5</th>\n",
       "      <th>Bill_amt6</th>\n",
       "      <th>Pay_amt1</th>\n",
       "      <th>Pay_amt2</th>\n",
       "      <th>Pay_amt3</th>\n",
       "      <th>Pay_amt4</th>\n",
       "      <th>Pay_amt5</th>\n",
       "      <th>Pay_amt6</th>\n",
       "      <th>Default_pay</th>\n",
       "    </tr>\n",
       "  </thead>\n",
       "  <tbody>\n",
       "    <tr>\n",
       "      <th>0</th>\n",
       "      <td>20000.0</td>\n",
       "      <td>2.0</td>\n",
       "      <td>2.0</td>\n",
       "      <td>1.0</td>\n",
       "      <td>24.0</td>\n",
       "      <td>2.0</td>\n",
       "      <td>2.0</td>\n",
       "      <td>0.0</td>\n",
       "      <td>0.0</td>\n",
       "      <td>0.0</td>\n",
       "      <td>...</td>\n",
       "      <td>0.0</td>\n",
       "      <td>0.0</td>\n",
       "      <td>0.0</td>\n",
       "      <td>0.0</td>\n",
       "      <td>689.0</td>\n",
       "      <td>0.0</td>\n",
       "      <td>0.0</td>\n",
       "      <td>0.0</td>\n",
       "      <td>0.0</td>\n",
       "      <td>1.0</td>\n",
       "    </tr>\n",
       "    <tr>\n",
       "      <th>1</th>\n",
       "      <td>120000.0</td>\n",
       "      <td>2.0</td>\n",
       "      <td>2.0</td>\n",
       "      <td>2.0</td>\n",
       "      <td>26.0</td>\n",
       "      <td>0.0</td>\n",
       "      <td>2.0</td>\n",
       "      <td>0.0</td>\n",
       "      <td>0.0</td>\n",
       "      <td>0.0</td>\n",
       "      <td>...</td>\n",
       "      <td>3272.0</td>\n",
       "      <td>3455.0</td>\n",
       "      <td>3261.0</td>\n",
       "      <td>0.0</td>\n",
       "      <td>1000.0</td>\n",
       "      <td>1000.0</td>\n",
       "      <td>1000.0</td>\n",
       "      <td>0.0</td>\n",
       "      <td>2000.0</td>\n",
       "      <td>1.0</td>\n",
       "    </tr>\n",
       "    <tr>\n",
       "      <th>2</th>\n",
       "      <td>90000.0</td>\n",
       "      <td>2.0</td>\n",
       "      <td>2.0</td>\n",
       "      <td>2.0</td>\n",
       "      <td>34.0</td>\n",
       "      <td>1.0</td>\n",
       "      <td>0.0</td>\n",
       "      <td>0.0</td>\n",
       "      <td>0.0</td>\n",
       "      <td>0.0</td>\n",
       "      <td>...</td>\n",
       "      <td>14331.0</td>\n",
       "      <td>14948.0</td>\n",
       "      <td>15549.0</td>\n",
       "      <td>1518.0</td>\n",
       "      <td>1500.0</td>\n",
       "      <td>1000.0</td>\n",
       "      <td>1000.0</td>\n",
       "      <td>1000.0</td>\n",
       "      <td>5000.0</td>\n",
       "      <td>0.0</td>\n",
       "    </tr>\n",
       "    <tr>\n",
       "      <th>3</th>\n",
       "      <td>50000.0</td>\n",
       "      <td>2.0</td>\n",
       "      <td>2.0</td>\n",
       "      <td>1.0</td>\n",
       "      <td>37.0</td>\n",
       "      <td>0.0</td>\n",
       "      <td>0.0</td>\n",
       "      <td>0.0</td>\n",
       "      <td>0.0</td>\n",
       "      <td>0.0</td>\n",
       "      <td>...</td>\n",
       "      <td>28314.0</td>\n",
       "      <td>28959.0</td>\n",
       "      <td>29547.0</td>\n",
       "      <td>2000.0</td>\n",
       "      <td>2019.0</td>\n",
       "      <td>1200.0</td>\n",
       "      <td>1100.0</td>\n",
       "      <td>1069.0</td>\n",
       "      <td>1000.0</td>\n",
       "      <td>0.0</td>\n",
       "    </tr>\n",
       "    <tr>\n",
       "      <th>4</th>\n",
       "      <td>50000.0</td>\n",
       "      <td>1.0</td>\n",
       "      <td>2.0</td>\n",
       "      <td>1.0</td>\n",
       "      <td>57.0</td>\n",
       "      <td>0.0</td>\n",
       "      <td>0.0</td>\n",
       "      <td>0.0</td>\n",
       "      <td>0.0</td>\n",
       "      <td>-0.0</td>\n",
       "      <td>...</td>\n",
       "      <td>20940.0</td>\n",
       "      <td>19146.0</td>\n",
       "      <td>19131.0</td>\n",
       "      <td>2000.0</td>\n",
       "      <td>36681.0</td>\n",
       "      <td>10000.0</td>\n",
       "      <td>9000.0</td>\n",
       "      <td>689.0</td>\n",
       "      <td>679.0</td>\n",
       "      <td>0.0</td>\n",
       "    </tr>\n",
       "  </tbody>\n",
       "</table>\n",
       "<p>5 rows × 24 columns</p>\n",
       "</div>"
      ],
      "text/plain": [
       "   Limit_bal  Sex  Education  Marriage   Age  Pay_1  Pay_2  Pay_3  Pay_4  \\\n",
       "0    20000.0  2.0        2.0       1.0  24.0    2.0    2.0    0.0    0.0   \n",
       "1   120000.0  2.0        2.0       2.0  26.0    0.0    2.0    0.0    0.0   \n",
       "2    90000.0  2.0        2.0       2.0  34.0    1.0    0.0    0.0    0.0   \n",
       "3    50000.0  2.0        2.0       1.0  37.0    0.0    0.0    0.0    0.0   \n",
       "4    50000.0  1.0        2.0       1.0  57.0    0.0    0.0    0.0    0.0   \n",
       "\n",
       "   Pay_5  ...  Bill_amt4  Bill_amt5  Bill_amt6  Pay_amt1  Pay_amt2  Pay_amt3  \\\n",
       "0    0.0  ...        0.0        0.0        0.0       0.0     689.0       0.0   \n",
       "1    0.0  ...     3272.0     3455.0     3261.0       0.0    1000.0    1000.0   \n",
       "2    0.0  ...    14331.0    14948.0    15549.0    1518.0    1500.0    1000.0   \n",
       "3    0.0  ...    28314.0    28959.0    29547.0    2000.0    2019.0    1200.0   \n",
       "4   -0.0  ...    20940.0    19146.0    19131.0    2000.0   36681.0   10000.0   \n",
       "\n",
       "   Pay_amt4  Pay_amt5  Pay_amt6  Default_pay  \n",
       "0       0.0       0.0       0.0          1.0  \n",
       "1    1000.0       0.0    2000.0          1.0  \n",
       "2    1000.0    1000.0    5000.0          0.0  \n",
       "3    1100.0    1069.0    1000.0          0.0  \n",
       "4    9000.0     689.0     679.0          0.0  \n",
       "\n",
       "[5 rows x 24 columns]"
      ]
     },
     "execution_count": 20,
     "metadata": {},
     "output_type": "execute_result"
    }
   ],
   "source": [
    "#Before\n",
    "df.head()"
   ]
  },
  {
   "cell_type": "code",
   "execution_count": 21,
   "metadata": {},
   "outputs": [
    {
     "name": "stdout",
     "output_type": "stream",
     "text": [
      "<class 'pandas.core.frame.DataFrame'>\n",
      "RangeIndex: 30000 entries, 0 to 29999\n",
      "Data columns (total 24 columns):\n",
      "Limit_bal      30000 non-null float64\n",
      "Sex            30000 non-null int64\n",
      "Education      30000 non-null int64\n",
      "Marriage       30000 non-null int64\n",
      "Age            30000 non-null float64\n",
      "Pay_1          30000 non-null int64\n",
      "Pay_2          30000 non-null int64\n",
      "Pay_3          30000 non-null int64\n",
      "Pay_4          30000 non-null int64\n",
      "Pay_5          30000 non-null int64\n",
      "Pay_6          30000 non-null int64\n",
      "Bill_amt1      30000 non-null float64\n",
      "Bill_amt2      30000 non-null float64\n",
      "Bill_amt3      30000 non-null float64\n",
      "Bill_amt4      30000 non-null float64\n",
      "Bill_amt5      30000 non-null float64\n",
      "Bill_amt6      30000 non-null float64\n",
      "Pay_amt1       30000 non-null float64\n",
      "Pay_amt2       30000 non-null float64\n",
      "Pay_amt3       30000 non-null float64\n",
      "Pay_amt4       30000 non-null float64\n",
      "Pay_amt5       30000 non-null float64\n",
      "Pay_amt6       30000 non-null float64\n",
      "Default_pay    30000 non-null int64\n",
      "dtypes: float64(14), int64(10)\n",
      "memory usage: 5.5 MB\n"
     ]
    }
   ],
   "source": [
    "#Change default_pay, Sex, Education, Marriage and Pay_1-Pay_6 variables datatype float to integers to eliminate zeroes after integers\n",
    "df['Default_pay'] = df['Default_pay'].astype('int64')\n",
    "df['Sex'] = df['Sex'].astype('int64')\n",
    "df['Education'] = df['Education'].astype('int64')\n",
    "df['Marriage'] = df['Marriage'].astype('int64')\n",
    "for j in range(1,7):\n",
    "    df[f'Pay_{j}'] = df[f'Pay_{j}'].astype('int64')\n",
    "df.head()\n",
    "df.info()"
   ]
  },
  {
   "cell_type": "markdown",
   "metadata": {},
   "source": [
    "<div class=\"alert alert-block alert-info\">\n",
    "<b><font size=\"4\"> Data Visualization</font></b>\n",
    "</div>"
   ]
  },
  {
   "cell_type": "code",
   "execution_count": 22,
   "metadata": {},
   "outputs": [
    {
     "data": {
      "text/plain": [
       "<seaborn.axisgrid.FacetGrid at 0x110ff24a8>"
      ]
     },
     "execution_count": 22,
     "metadata": {},
     "output_type": "execute_result"
    },
    {
     "data": {
      "image/png": "[encoded data removed]",
      "text/plain": [
       "<Figure size 500x216 with 2 Axes>"
      ]
     },
     "metadata": {
      "needs_background": "light"
     },
     "output_type": "display_data"
    }
   ],
   "source": [
    "g = sns.FacetGrid(df, col='Sex', hue='Default_pay')\n",
    "g.map(plt.hist, 'Age', alpha=0.6, bins=25)\n",
    "g.add_legend()"
   ]
  },
  {
   "cell_type": "code",
   "execution_count": 23,
   "metadata": {},
   "outputs": [
    {
     "data": {
      "image/png": "[encoded data removed]",
      "text/plain": [
       "<Figure size 1440x1080 with 9 Axes>"
      ]
     },
     "metadata": {},
     "output_type": "display_data"
    }
   ],
   "source": [
    "# Creating a new dataframe with categorical variables\n",
    "\n",
    "\n",
    "subset = df[['Sex', 'Education', 'Marriage', 'Pay_1', 'Pay_2',\n",
    "       'Pay_3', 'Pay_4', 'Pay_5', 'Pay_6', 'Default_pay']]\n",
    "\n",
    "f, axes = plt.subplots(3, 3, figsize=(20, 15), facecolor='white')\n",
    "f.suptitle('FREQUENCY OF CATEGORICAL VARIABLES (BY TARGET)')\n",
    "ax1 = sns.countplot(x=\"Sex\", hue=\"Default_pay\", data=subset, palette=\"Blues\", ax=axes[0,0])\n",
    "ax2 = sns.countplot(x=\"Education\", hue=\"Default_pay\", data=subset, palette=\"Blues\",ax=axes[0,1])\n",
    "ax3 = sns.countplot(x=\"Marriage\", hue=\"Default_pay\", data=subset, palette=\"Blues\",ax=axes[0,2])\n",
    "ax4 = sns.countplot(x=\"Pay_1\", hue=\"Default_pay\", data=subset, palette=\"Blues\", ax=axes[1,0])\n",
    "ax5 = sns.countplot(x=\"Pay_2\", hue=\"Default_pay\", data=subset, palette=\"Blues\", ax=axes[1,1])\n",
    "ax6 = sns.countplot(x=\"Pay_3\", hue=\"Default_pay\", data=subset, palette=\"Blues\", ax=axes[1,2])\n",
    "ax7 = sns.countplot(x=\"Pay_4\", hue=\"Default_pay\", data=subset, palette=\"Blues\", ax=axes[2,0])\n",
    "ax8 = sns.countplot(x=\"Pay_5\", hue=\"Default_pay\", data=subset, palette=\"Blues\", ax=axes[2,1])\n",
    "ax9 = sns.countplot(x=\"Pay_6\", hue=\"Default_pay\", data=subset, palette=\"Blues\", ax=axes[2,2])"
   ]
  },
  {
   "cell_type": "code",
   "execution_count": 24,
   "metadata": {},
   "outputs": [
    {
     "data": {
      "image/png": "[encoded data removed]",
      "text/plain": [
       "<Figure size 864x288 with 1 Axes>"
      ]
     },
     "metadata": {
      "needs_background": "light"
     },
     "output_type": "display_data"
    }
   ],
   "source": [
    "import sys\n",
    "x1 = list(df[df['Default_pay'] == 1]['Limit_bal'])\n",
    "x2 = list(df[df['Default_pay'] == 0]['Limit_bal'])\n",
    "\n",
    "plt.figure(figsize=(12,4))\n",
    "sns.set_context('notebook', font_scale=1.2)\n",
    "#sns.set_color_codes(\"pastel\")\n",
    "plt.hist([x1, x2], bins = 40, density= False, color=['cornflowerblue','skyblue'])\n",
    "plt.xlim([0,600000])\n",
    "plt.legend(['Yes', 'No'], title = 'Default', loc='upper right', facecolor='white')\n",
    "plt.xlabel('Limit Balance (NT dollar)')\n",
    "plt.ylabel('Frequency')\n",
    "plt.title('LIMIT BALANCE HISTOGRAM BY TYPE OF CREDIT CARD', SIZE=15)\n",
    "plt.box(False);"
   ]
  },
  {
   "cell_type": "markdown",
   "metadata": {},
   "source": [
    "<div class=\"alert alert-block alert-info\">\n",
    "<b><font size=\"4\"> Data Partitioning :</font></b>\n",
    "    \n",
    "Machine learning methods typically require splitting data into multiple chunks for training, validating, and finally testing for building and training a model\n",
    "    <div>"
   ]
  },
  {
   "cell_type": "code",
   "execution_count": 25,
   "metadata": {},
   "outputs": [],
   "source": [
    "X = df.drop(['Default_pay'], axis=1)\n",
    "y = df['Default_pay']"
   ]
  },
  {
   "cell_type": "code",
   "execution_count": 26,
   "metadata": {},
   "outputs": [],
   "source": [
    "from sklearn.model_selection import train_test_split"
   ]
  },
  {
   "cell_type": "code",
   "execution_count": 27,
   "metadata": {},
   "outputs": [],
   "source": [
    "X_train_org, X_test_org, y_train, y_test = train_test_split(X, y, random_state = 0)"
   ]
  },
  {
   "cell_type": "code",
   "execution_count": 28,
   "metadata": {},
   "outputs": [
    {
     "data": {
      "text/plain": [
       "((7500, 23), (7500,))"
      ]
     },
     "execution_count": 28,
     "metadata": {},
     "output_type": "execute_result"
    }
   ],
   "source": [
    "X_train_org.shape, y_train.shape\n",
    "X_test_org.shape, y_test.shape"
   ]
  },
  {
   "cell_type": "markdown",
   "metadata": {},
   "source": [
    "<div class=\"alert alert-block alert-info\">\n",
    "<b><font size=\"4\"> Feature Scaling</font></b>\n",
    "<div>"
   ]
  },
  {
   "cell_type": "code",
   "execution_count": 29,
   "metadata": {},
   "outputs": [],
   "source": [
    "from sklearn.preprocessing import MinMaxScaler"
   ]
  },
  {
   "cell_type": "code",
   "execution_count": 30,
   "metadata": {},
   "outputs": [],
   "source": [
    "scaler = MinMaxScaler()\n",
    "X_train = scaler.fit_transform(X_train_org)\n",
    "X_test = scaler.transform(X_test_org)"
   ]
  },
  {
   "cell_type": "markdown",
   "metadata": {},
   "source": [
    "<div class=\"alert alert-block alert-info\">\n",
    "<b><font size=\"4\"> Model Evaluation strategy (Metrics Selection)</font></b>"
   ]
  },
  {
   "cell_type": "code",
   "execution_count": 76,
   "metadata": {},
   "outputs": [],
   "source": [
    "from sklearn.model_selection import GridSearchCV # for tuning parameter\n",
    "from sklearn.metrics import classification_report, confusion_matrix, accuracy_score, roc_auc_score, roc_curve,precision_recall_curve, auc"
   ]
  },
  {
   "cell_type": "markdown",
   "metadata": {},
   "source": [
    "<div class=\"alert alert-block alert-info\">\n",
    "<b><font size=\"4\">  KNN Classification</font></b>"
   ]
  },
  {
   "cell_type": "code",
   "execution_count": 32,
   "metadata": {},
   "outputs": [],
   "source": [
    "from sklearn.neighbors import KNeighborsClassifier"
   ]
  },
  {
   "cell_type": "code",
   "execution_count": 33,
   "metadata": {},
   "outputs": [
    {
     "data": {
      "text/plain": [
       "GridSearchCV(cv=6, error_score=nan,\n",
       "             estimator=KNeighborsClassifier(algorithm='auto', leaf_size=30,\n",
       "                                            metric='minkowski',\n",
       "                                            metric_params=None, n_jobs=None,\n",
       "                                            n_neighbors=5, p=2,\n",
       "                                            weights='uniform'),\n",
       "             iid='deprecated', n_jobs=-1,\n",
       "             param_grid={'n_neighbors': array([ 3,  4,  5,  6,  7,  8,  9, 10, 11, 12, 13, 14, 15, 16, 17, 18, 19,\n",
       "       20, 21, 22, 23])},\n",
       "             pre_dispatch='2*n_jobs', refit=True, return_train_score=True,\n",
       "             scoring=None, verbose=0)"
      ]
     },
     "execution_count": 33,
     "metadata": {},
     "output_type": "execute_result"
    }
   ],
   "source": [
    "param_grid = {'n_neighbors': np.arange(3,24)}\n",
    "knn_gscv = GridSearchCV(KNeighborsClassifier(), param_grid, return_train_score=True, cv=6, n_jobs=-1)\n",
    "knn_gscv.fit(X_train, y_train)"
   ]
  },
  {
   "cell_type": "code",
   "execution_count": 34,
   "metadata": {},
   "outputs": [
    {
     "data": {
      "text/plain": [
       "0.8069333333333333"
      ]
     },
     "execution_count": 34,
     "metadata": {},
     "output_type": "execute_result"
    }
   ],
   "source": [
    "knn_gscv.score(X_test, y_test)\n",
    "#Accuracy score"
   ]
  },
  {
   "cell_type": "code",
   "execution_count": 35,
   "metadata": {},
   "outputs": [
    {
     "name": "stdout",
     "output_type": "stream",
     "text": [
      "Best parameters: {'n_neighbors': 21}\n",
      "Best cross-validation score: 0.808578\n"
     ]
    }
   ],
   "source": [
    "print(f'Best parameters: {knn_gscv.best_params_}')\n",
    "print(f'Best cross-validation score: {knn_gscv.best_score_:0.6f}')\n",
    "#Grid Search to find the best scaling parameter and mean testing score"
   ]
  },
  {
   "cell_type": "code",
   "execution_count": 36,
   "metadata": {},
   "outputs": [
    {
     "name": "stdout",
     "output_type": "stream",
     "text": [
      "\n",
      "KNN Classification: \n",
      "\n",
      "\t• Train accuracy score: 0.818356\n",
      "\t• Test accuracy score: 0.806933\n",
      "\n",
      "The Classification Report is plotted below: \n",
      "\n",
      "               precision    recall  f1-score   support\n",
      "\n",
      "           0       0.83      0.96      0.89      5905\n",
      "           1       0.61      0.26      0.36      1595\n",
      "\n",
      "    accuracy                           0.81      7500\n",
      "   macro avg       0.72      0.61      0.62      7500\n",
      "weighted avg       0.78      0.81      0.77      7500\n",
      "\n",
      "\n",
      "The Confusion Matrix is plotted below:\n"
     ]
    },
    {
     "data": {
      "image/png": "[encoded data removed]",
      "text/plain": [
       "<Figure size 432x288 with 2 Axes>"
      ]
     },
     "metadata": {
      "needs_background": "light"
     },
     "output_type": "display_data"
    }
   ],
   "source": [
    "y_pred = knn_gscv.predict(X_test)\n",
    "print(\"\\nKNN Classification: \\n\\n\\t• Train accuracy score: {:.6f}\".format(knn_gscv.score(X_train, y_train)))\n",
    "print(\"\\t• Test accuracy score: {:.6f}\".format(knn_gscv.score(X_test, y_test)))\n",
    "print('\\nThe Classification Report is plotted below: \\n\\n',classification_report(y_test, y_pred))\n",
    "print('\\nThe Confusion Matrix is plotted below:')\n",
    "cm1 = confusion_matrix(y_test, y_pred)\n",
    "sns.heatmap(cm1,annot=True, cmap=\"Blues\", fmt=\"d\", \n",
    "            xticklabels = ['Non-default', 'Default'], \n",
    "            yticklabels = ['Non-default', 'Default'])\n",
    "plt.ylabel('True label')\n",
    "plt.xlabel('Predicted label');\n",
    "# plt.title(\"Confusion Matrix - KNN Classification\");"
   ]
  },
  {
   "cell_type": "markdown",
   "metadata": {},
   "source": [
    "<div class=\"alert alert-block alert-info\">\n",
    "<b><font size=\"4\">  Decision Tree Classification</font></b>"
   ]
  },
  {
   "cell_type": "code",
   "execution_count": 37,
   "metadata": {},
   "outputs": [],
   "source": [
    "from sklearn.tree import DecisionTreeClassifier"
   ]
  },
  {
   "cell_type": "code",
   "execution_count": 38,
   "metadata": {},
   "outputs": [
    {
     "data": {
      "text/plain": [
       "GridSearchCV(cv=6, error_score=nan,\n",
       "             estimator=DecisionTreeClassifier(ccp_alpha=0.0, class_weight=None,\n",
       "                                              criterion='gini', max_depth=None,\n",
       "                                              max_features=None,\n",
       "                                              max_leaf_nodes=None,\n",
       "                                              min_impurity_decrease=0.0,\n",
       "                                              min_impurity_split=None,\n",
       "                                              min_samples_leaf=1,\n",
       "                                              min_samples_split=2,\n",
       "                                              min_weight_fraction_leaf=0.0,\n",
       "                                              presort='deprecated',\n",
       "                                              random_state=None,\n",
       "                                              splitter='best'),\n",
       "             iid='deprecated', n_jobs=-1,\n",
       "             param_grid={'criterion': ['gini', 'entropy'],\n",
       "                         'max_depth': array([1, 2, 3, 4, 5, 6, 7, 8, 9])},\n",
       "             pre_dispatch='2*n_jobs', refit=True, return_train_score=True,\n",
       "             scoring=None, verbose=0)"
      ]
     },
     "execution_count": 38,
     "metadata": {},
     "output_type": "execute_result"
    }
   ],
   "source": [
    "param_grid = {'criterion':['gini','entropy'],'max_depth': np.arange(1, 10)}\n",
    "dtree_gscv = GridSearchCV(DecisionTreeClassifier(),param_grid,return_train_score=True, cv=6, n_jobs=-1)\n",
    "dtree_gscv.fit(X_train, y_train)"
   ]
  },
  {
   "cell_type": "code",
   "execution_count": 39,
   "metadata": {},
   "outputs": [
    {
     "data": {
      "text/plain": [
       "0.8221333333333334"
      ]
     },
     "execution_count": 39,
     "metadata": {},
     "output_type": "execute_result"
    }
   ],
   "source": [
    "dtree_gscv.score(X_test, y_test)\n",
    "#Accuracy score"
   ]
  },
  {
   "cell_type": "code",
   "execution_count": 40,
   "metadata": {},
   "outputs": [
    {
     "name": "stdout",
     "output_type": "stream",
     "text": [
      "Best parameters: {'criterion': 'gini', 'max_depth': 4}\n",
      "Best cross-validation score: 0.815511\n"
     ]
    }
   ],
   "source": [
    "print(f'Best parameters: {dtree_gscv.best_params_}')\n",
    "print(f'Best cross-validation score: {dtree_gscv.best_score_:0.6f}')\n",
    "#Grid Search to find the best scaling parameter and mean testing score"
   ]
  },
  {
   "cell_type": "code",
   "execution_count": 41,
   "metadata": {},
   "outputs": [
    {
     "name": "stdout",
     "output_type": "stream",
     "text": [
      "\n",
      "Decision Tree Classification: \n",
      "\n",
      "\t• Train accuracy score: 0.817778\n",
      "\t• Test accuracy score: 0.822133\n",
      "\n",
      "The Classification Report is plotted below: \n",
      "\n",
      "               precision    recall  f1-score   support\n",
      "\n",
      "           0       0.84      0.96      0.89      5905\n",
      "           1       0.67      0.33      0.44      1595\n",
      "\n",
      "    accuracy                           0.82      7500\n",
      "   macro avg       0.75      0.64      0.67      7500\n",
      "weighted avg       0.80      0.82      0.80      7500\n",
      "\n",
      "\n",
      "The Confusion Matrix is plotted below:\n"
     ]
    },
    {
     "data": {
      "image/png": "[encoded data removed]",
      "text/plain": [
       "<Figure size 432x288 with 2 Axes>"
      ]
     },
     "metadata": {
      "needs_background": "light"
     },
     "output_type": "display_data"
    }
   ],
   "source": [
    "y_pred = dtree_gscv.predict(X_test)\n",
    "print(\"\\nDecision Tree Classification: \\n\\n\\t• Train accuracy score: {:.6f}\".format(dtree_gscv.score(X_train, y_train)))\n",
    "print(\"\\t• Test accuracy score: {:.6f}\".format(dtree_gscv.score(X_test, y_test)))\n",
    "print('\\nThe Classification Report is plotted below: \\n\\n',classification_report(y_test, y_pred))\n",
    "print('\\nThe Confusion Matrix is plotted below:')\n",
    "cm2 = confusion_matrix(y_test, y_pred)\n",
    "sns.heatmap(cm2,annot=True, cmap=\"Blues\", fmt=\"d\", \n",
    "            xticklabels = ['Non-default', 'Default'], \n",
    "            yticklabels = ['Non-default', 'Default'])\n",
    "plt.ylabel('True label')\n",
    "plt.xlabel('Predicted label');\n",
    "# plt.title(\"Confusion Matrix - Decision tree\");"
   ]
  },
  {
   "cell_type": "markdown",
   "metadata": {},
   "source": [
    "<div class=\"alert alert-block alert-info\">\n",
    "<b><font size=\"4\"> Logistic Regression</font></b>"
   ]
  },
  {
   "cell_type": "code",
   "execution_count": 42,
   "metadata": {},
   "outputs": [],
   "source": [
    "from sklearn import linear_model\n",
    "logistic = linear_model.LogisticRegression()"
   ]
  },
  {
   "cell_type": "code",
   "execution_count": 43,
   "metadata": {},
   "outputs": [
    {
     "data": {
      "text/plain": [
       "GridSearchCV(cv=6, error_score=nan,\n",
       "             estimator=LogisticRegression(C=1.0, class_weight=None, dual=False,\n",
       "                                          fit_intercept=True,\n",
       "                                          intercept_scaling=1, l1_ratio=None,\n",
       "                                          max_iter=100, multi_class='auto',\n",
       "                                          n_jobs=None, penalty='l2',\n",
       "                                          random_state=None, solver='lbfgs',\n",
       "                                          tol=0.0001, verbose=0,\n",
       "                                          warm_start=False),\n",
       "             iid='deprecated', n_jobs=-1,\n",
       "             param_grid={'C': [0.001, 0.01, 0.1, 1, 10, 15, 20, 21, 23, 25,\n",
       "                               30]},\n",
       "             pre_dispatch='2*n_jobs', refit=True, return_train_score=True,\n",
       "             scoring=None, verbose=0)"
      ]
     },
     "execution_count": 43,
     "metadata": {},
     "output_type": "execute_result"
    }
   ],
   "source": [
    "param_c = {'C': [0.001, 0.01, 0.1, 1, 10, 15, 20, 21, 23, 25, 30]}\n",
    "lreg_gscv = GridSearchCV(logistic, param_c, return_train_score=True,cv=6, n_jobs=-1)\n",
    "lreg_gscv.fit(X_train, y_train)"
   ]
  },
  {
   "cell_type": "code",
   "execution_count": 44,
   "metadata": {},
   "outputs": [
    {
     "data": {
      "text/plain": [
       "0.8149333333333333"
      ]
     },
     "execution_count": 44,
     "metadata": {},
     "output_type": "execute_result"
    }
   ],
   "source": [
    "lreg_gscv.score(X_test, y_test)\n",
    "#Accuracy score"
   ]
  },
  {
   "cell_type": "code",
   "execution_count": 45,
   "metadata": {},
   "outputs": [
    {
     "name": "stdout",
     "output_type": "stream",
     "text": [
      "Best parameters: {'C': 20}\n",
      "Best cross-validation score: 0.812311\n"
     ]
    }
   ],
   "source": [
    "print(f'Best parameters: {lreg_gscv.best_params_}')\n",
    "print(f'Best cross-validation score: {lreg_gscv.best_score_:0.6f}')\n",
    "#Grid Search to find the best scaling parameter and mean testing score"
   ]
  },
  {
   "cell_type": "code",
   "execution_count": 46,
   "metadata": {},
   "outputs": [
    {
     "name": "stdout",
     "output_type": "stream",
     "text": [
      "\n",
      "Logistic Regression: \n",
      "\n",
      "\t• Train accuracy score: 0.811956\n",
      "\t• Test accuracy score: 0.814933\n",
      "\n",
      "The Classification Report is plotted below: \n",
      "\n",
      "               precision    recall  f1-score   support\n",
      "\n",
      "           0       0.83      0.96      0.89      5905\n",
      "           1       0.67      0.26      0.37      1595\n",
      "\n",
      "    accuracy                           0.81      7500\n",
      "   macro avg       0.75      0.61      0.63      7500\n",
      "weighted avg       0.79      0.81      0.78      7500\n",
      "\n",
      "\n",
      "The Confusion Matrix is plotted below:\n"
     ]
    },
    {
     "data": {
      "image/png": "[encoded data removed]",
      "text/plain": [
       "<Figure size 432x288 with 2 Axes>"
      ]
     },
     "metadata": {
      "needs_background": "light"
     },
     "output_type": "display_data"
    }
   ],
   "source": [
    "y_pred = lreg_gscv.predict(X_test)\n",
    "print(\"\\nLogistic Regression: \\n\\n\\t• Train accuracy score: {:.6f}\".format(lreg_gscv.score(X_train, y_train)))\n",
    "print(\"\\t• Test accuracy score: {:.6f}\".format(lreg_gscv.score(X_test, y_test)))\n",
    "print('\\nThe Classification Report is plotted below: \\n\\n',classification_report(y_test, y_pred))\n",
    "print('\\nThe Confusion Matrix is plotted below:')\n",
    "cm3 = confusion_matrix(y_test, y_pred)\n",
    "sns.heatmap(cm3,annot=True, cmap=\"Blues\", fmt=\"d\", \n",
    "            xticklabels = ['Non-default', 'Default'], \n",
    "            yticklabels = ['Non-default', 'Default'])\n",
    "plt.ylabel('True label')\n",
    "plt.xlabel('Predicted label');\n",
    "# plt.title(\"Confusion Matrix - Logistic Regression\");\n"
   ]
  },
  {
   "cell_type": "markdown",
   "metadata": {},
   "source": [
    "<div class=\"alert alert-block alert-info\">\n",
    "<b><font size=\"4\"> Linear Support Vector Machine</font></b>"
   ]
  },
  {
   "cell_type": "code",
   "execution_count": 47,
   "metadata": {},
   "outputs": [],
   "source": [
    "from sklearn.svm import LinearSVC"
   ]
  },
  {
   "cell_type": "code",
   "execution_count": 48,
   "metadata": {},
   "outputs": [
    {
     "data": {
      "text/plain": [
       "GridSearchCV(cv=6, error_score=nan,\n",
       "             estimator=LinearSVC(C=1.0, class_weight=None, dual=True,\n",
       "                                 fit_intercept=True, intercept_scaling=1,\n",
       "                                 loss='squared_hinge', max_iter=1000,\n",
       "                                 multi_class='ovr', penalty='l2',\n",
       "                                 random_state=0, tol=0.0001, verbose=0),\n",
       "             iid='deprecated', n_jobs=-1,\n",
       "             param_grid={'C': [0.01, 0.1, 1, 10, 100, 105],\n",
       "                         'loss': ['hinge', 'squared_hinge']},\n",
       "             pre_dispatch='2*n_jobs', refit=True, return_train_score=True,\n",
       "             scoring=None, verbose=0)"
      ]
     },
     "execution_count": 48,
     "metadata": {},
     "output_type": "execute_result"
    }
   ],
   "source": [
    "param_grid = {'C': [0.01, 0.1, 1, 10, 100, 105],\n",
    "              'loss': ['hinge','squared_hinge']}\n",
    "lsvc_gscv = GridSearchCV(LinearSVC(random_state=0), param_grid, return_train_score=True,cv=6, n_jobs=-1)\n",
    "lsvc_gscv.fit(X_train, y_train)"
   ]
  },
  {
   "cell_type": "code",
   "execution_count": 49,
   "metadata": {},
   "outputs": [
    {
     "data": {
      "text/plain": [
       "0.8164"
      ]
     },
     "execution_count": 49,
     "metadata": {},
     "output_type": "execute_result"
    }
   ],
   "source": [
    "lsvc_gscv.score(X_test, y_test)\n",
    "#Accuracy score"
   ]
  },
  {
   "cell_type": "code",
   "execution_count": 50,
   "metadata": {},
   "outputs": [
    {
     "name": "stdout",
     "output_type": "stream",
     "text": [
      "Best parameters: {'C': 1, 'loss': 'hinge'}\n",
      "Best cross-validation score: 0.812844\n"
     ]
    }
   ],
   "source": [
    "print(f'Best parameters: {lsvc_gscv.best_params_}')\n",
    "print(f'Best cross-validation score: {lsvc_gscv.best_score_:0.6f}')\n",
    "#Grid Search to find the best scaling parameter and mean testing score"
   ]
  },
  {
   "cell_type": "code",
   "execution_count": 51,
   "metadata": {},
   "outputs": [
    {
     "name": "stdout",
     "output_type": "stream",
     "text": [
      "\n",
      "Linear Support Vector Machine: \n",
      "\n",
      "\t• Train accuracy score: 0.811822\n",
      "\t• Test accuracy score: 0.816400\n",
      "\n",
      "The Classification Report is plotted below: \n",
      "\n",
      "               precision    recall  f1-score   support\n",
      "\n",
      "           0       0.83      0.97      0.89      5905\n",
      "           1       0.68      0.26      0.38      1595\n",
      "\n",
      "    accuracy                           0.82      7500\n",
      "   macro avg       0.75      0.61      0.63      7500\n",
      "weighted avg       0.80      0.82      0.78      7500\n",
      "\n",
      "\n",
      "The Confusion Matrix is plotted below:\n"
     ]
    },
    {
     "data": {
      "image/png": "[encoded data removed]",
      "text/plain": [
       "<Figure size 432x288 with 2 Axes>"
      ]
     },
     "metadata": {
      "needs_background": "light"
     },
     "output_type": "display_data"
    }
   ],
   "source": [
    "y_pred = lsvc_gscv.predict(X_test)\n",
    "print(\"\\nLinear Support Vector Machine: \\n\\n\\t• Train accuracy score: {:.6f}\".format(lsvc_gscv.score(X_train, y_train)))\n",
    "print(\"\\t• Test accuracy score: {:.6f}\".format(lsvc_gscv.score(X_test, y_test)))\n",
    "print('\\nThe Classification Report is plotted below: \\n\\n',classification_report(y_test, y_pred))\n",
    "print('\\nThe Confusion Matrix is plotted below:')\n",
    "cm4 = confusion_matrix(y_test, y_pred)\n",
    "sns.heatmap(cm4,annot=True, cmap=\"Blues\", fmt=\"d\", \n",
    "            xticklabels = ['Non-default', 'Default'], \n",
    "            yticklabels = ['Non-default', 'Default'])\n",
    "plt.ylabel('True label')\n",
    "plt.xlabel('Predicted label');\n",
    "# plt.title(\"Confusion Matrix - Linear Support Vector Machine\");"
   ]
  },
  {
   "cell_type": "markdown",
   "metadata": {},
   "source": [
    "<div class=\"alert alert-block alert-info\">\n",
    "<b><font size=\"4\"> Kerenilzed Support Vector Machine (rbf)</font></b>"
   ]
  },
  {
   "cell_type": "code",
   "execution_count": 52,
   "metadata": {},
   "outputs": [],
   "source": [
    "from sklearn.svm import SVC"
   ]
  },
  {
   "cell_type": "code",
   "execution_count": 53,
   "metadata": {},
   "outputs": [
    {
     "data": {
      "text/plain": [
       "GridSearchCV(cv=6, error_score=nan,\n",
       "             estimator=SVC(C=1.0, break_ties=False, cache_size=200,\n",
       "                           class_weight=None, coef0=0.0,\n",
       "                           decision_function_shape='ovr', degree=3,\n",
       "                           gamma='scale', kernel='rbf', max_iter=-1,\n",
       "                           probability=False, random_state=None, shrinking=True,\n",
       "                           tol=0.001, verbose=False),\n",
       "             iid='deprecated', n_jobs=-1,\n",
       "             param_grid={'C': [0.1, 1, 10, 100], 'gamma': [0.01, 0.1, 1, 10]},\n",
       "             pre_dispatch='2*n_jobs', refit=True, return_train_score=True,\n",
       "             scoring=None, verbose=0)"
      ]
     },
     "execution_count": 53,
     "metadata": {},
     "output_type": "execute_result"
    }
   ],
   "source": [
    "param_grid = {'C': [0.1, 1, 10, 100],\n",
    "              'gamma': [0.01, 0.1, 1, 10]}\n",
    "rbf_gsvc = GridSearchCV(SVC(kernel='rbf'), param_grid,return_train_score=True, cv=6, n_jobs=-1)\n",
    "rbf_gsvc.fit(X_train, y_train)"
   ]
  },
  {
   "cell_type": "code",
   "execution_count": 54,
   "metadata": {},
   "outputs": [
    {
     "data": {
      "text/plain": [
       "0.8126666666666666"
      ]
     },
     "execution_count": 54,
     "metadata": {},
     "output_type": "execute_result"
    }
   ],
   "source": [
    "rbf_gsvc.score(X_test, y_test)\n",
    "#Accuracy score"
   ]
  },
  {
   "cell_type": "code",
   "execution_count": 55,
   "metadata": {},
   "outputs": [
    {
     "name": "stdout",
     "output_type": "stream",
     "text": [
      "Best parameters: {'C': 100, 'gamma': 1}\n",
      "Best cross-validation score: 0.813911\n"
     ]
    }
   ],
   "source": [
    "print(f'Best parameters: {rbf_gsvc.best_params_}')\n",
    "print(f'Best cross-validation score: {rbf_gsvc.best_score_:0.6f}')\n",
    "#Grid Search to find the best scaling parameter and mean testing score"
   ]
  },
  {
   "cell_type": "code",
   "execution_count": 56,
   "metadata": {},
   "outputs": [
    {
     "name": "stdout",
     "output_type": "stream",
     "text": [
      "\n",
      "Kerenilzed Support Vector Machine(rbf): \n",
      "\n",
      "\t• Train accuracy score: 0.834089\n",
      "\t• Test accuracy score: 0.812667\n",
      "\n",
      "The Classification Report is plotted below: \n",
      "\n",
      "               precision    recall  f1-score   support\n",
      "\n",
      "           0       0.84      0.95      0.89      5905\n",
      "           1       0.62      0.31      0.42      1595\n",
      "\n",
      "    accuracy                           0.81      7500\n",
      "   macro avg       0.73      0.63      0.65      7500\n",
      "weighted avg       0.79      0.81      0.79      7500\n",
      "\n",
      "\n",
      "The Confusion Matrix is plotted below:\n"
     ]
    },
    {
     "data": {
      "image/png": "[encoded data removed]",
      "text/plain": [
       "<Figure size 432x288 with 2 Axes>"
      ]
     },
     "metadata": {
      "needs_background": "light"
     },
     "output_type": "display_data"
    }
   ],
   "source": [
    "y_pred = rbf_gsvc.predict(X_test)\n",
    "print(\"\\nKerenilzed Support Vector Machine(rbf): \\n\\n\\t• Train accuracy score: {:.6f}\".format(rbf_gsvc.score(X_train, y_train)))\n",
    "print(\"\\t• Test accuracy score: {:.6f}\".format(rbf_gsvc.score(X_test, y_test)))\n",
    "print('\\nThe Classification Report is plotted below: \\n\\n',classification_report(y_test, y_pred))\n",
    "print('\\nThe Confusion Matrix is plotted below:')\n",
    "cm5 = confusion_matrix(y_test, y_pred)\n",
    "sns.heatmap(cm5,annot=True, cmap=\"Blues\", fmt=\"d\", \n",
    "            xticklabels = ['Non-default', 'Default'], \n",
    "            yticklabels = ['Non-default', 'Default'])\n",
    "plt.ylabel('True label')\n",
    "plt.xlabel('Predicted label');\n",
    "# plt.title(\"Confusion Matrix - Kerenilzed Support Vector Machine(rbf)\");"
   ]
  },
  {
   "cell_type": "markdown",
   "metadata": {},
   "source": [
    "<div class=\"alert alert-block alert-info\">\n",
    "<b><font size=\"4\"> Kerenilzed Support Vector Machine (poly)</font></b>"
   ]
  },
  {
   "cell_type": "code",
   "execution_count": 59,
   "metadata": {},
   "outputs": [
    {
     "data": {
      "text/plain": [
       "GridSearchCV(cv=6, error_score=nan,\n",
       "             estimator=SVC(C=1.0, break_ties=False, cache_size=200,\n",
       "                           class_weight=None, coef0=0.0,\n",
       "                           decision_function_shape='ovr', degree=3,\n",
       "                           gamma='scale', kernel='poly', max_iter=-1,\n",
       "                           probability=False, random_state=None, shrinking=True,\n",
       "                           tol=0.001, verbose=False),\n",
       "             iid='deprecated', n_jobs=-1, param_grid={'C': [10], 'gamma': [1]},\n",
       "             pre_dispatch='2*n_jobs', refit=True, return_train_score=False,\n",
       "             scoring=None, verbose=0)"
      ]
     },
     "execution_count": 59,
     "metadata": {},
     "output_type": "execute_result"
    }
   ],
   "source": [
    "param_grid = {'C': [10],\n",
    "              'gamma': [1]}\n",
    "poly_gsvc = GridSearchCV(SVC(kernel='poly'), param_grid ,cv=6, n_jobs=-1)\n",
    "poly_gsvc.fit(X_train, y_train)"
   ]
  },
  {
   "cell_type": "code",
   "execution_count": 60,
   "metadata": {},
   "outputs": [
    {
     "data": {
      "text/plain": [
       "0.8116"
      ]
     },
     "execution_count": 60,
     "metadata": {},
     "output_type": "execute_result"
    }
   ],
   "source": [
    "poly_gsvc.score(X_test, y_test)\n",
    "#Accuracy score"
   ]
  },
  {
   "cell_type": "code",
   "execution_count": 62,
   "metadata": {},
   "outputs": [
    {
     "name": "stdout",
     "output_type": "stream",
     "text": [
      "Best parameters: {'C': 10, 'gamma': 1}\n",
      "Best cross-validation score: 0.810267\n"
     ]
    }
   ],
   "source": [
    "print(f'Best parameters: {poly_gsvc.best_params_}')\n",
    "print(f'Best cross-validation score: {poly_gsvc.best_score_:0.6f}')\n",
    "#Grid Search to find the best scaling parameter and mean testing score"
   ]
  },
  {
   "cell_type": "code",
   "execution_count": 66,
   "metadata": {},
   "outputs": [
    {
     "name": "stdout",
     "output_type": "stream",
     "text": [
      "\n",
      "Kerenilzed Support Vector Machine(poly): \n",
      "\n",
      "\t• Train accuracy score: 0.817289\n",
      "\t• Test accuracy score: 0.811600\n",
      "\n",
      "The Classification Report is plotted below: \n",
      "\n",
      "               precision    recall  f1-score   support\n",
      "\n",
      "           0       0.82      0.97      0.89      5905\n",
      "           1       0.66      0.24      0.35      1595\n",
      "\n",
      "    accuracy                           0.81      7500\n",
      "   macro avg       0.74      0.60      0.62      7500\n",
      "weighted avg       0.79      0.81      0.77      7500\n",
      "\n",
      "\n",
      "The Confusion Matrix is plotted below:\n"
     ]
    },
    {
     "data": {
      "image/png": "[encoded data removed]",
      "text/plain": [
       "<Figure size 432x288 with 2 Axes>"
      ]
     },
     "metadata": {
      "needs_background": "light"
     },
     "output_type": "display_data"
    }
   ],
   "source": [
    "y_pred = poly_gsvc.predict(X_test)\n",
    "print(\"\\nKerenilzed Support Vector Machine(poly): \\n\\n\\t• Train accuracy score: {:.6f}\".format(poly_gsvc.score(X_train, y_train)))\n",
    "print(\"\\t• Test accuracy score: {:.6f}\".format(poly_gsvc.score(X_test, y_test)))\n",
    "print('\\nThe Classification Report is plotted below: \\n\\n',classification_report(y_test, y_pred))\n",
    "print('\\nThe Confusion Matrix is plotted below:')\n",
    "cm6 = confusion_matrix(y_test, y_pred)\n",
    "sns.heatmap(cm6,annot=True, cmap=\"Blues\", fmt=\"d\", \n",
    "            xticklabels = ['Non-default', 'Default'], \n",
    "            yticklabels = ['Non-default', 'Default'])\n",
    "plt.ylabel('True label')\n",
    "plt.xlabel('Predicted label');\n",
    "# plt.title(\"Confusion Matrix - Kerenilzed Support Vector Machine(poly)\");"
   ]
  },
  {
   "cell_type": "markdown",
   "metadata": {},
   "source": [
    "<div class=\"alert alert-block alert-info\">\n",
    "<b><font size=\"4\"> Kerenilzed Support Vector Machine (linear)</font></b>"
   ]
  },
  {
   "cell_type": "code",
   "execution_count": 69,
   "metadata": {},
   "outputs": [
    {
     "data": {
      "text/plain": [
       "GridSearchCV(cv=6, error_score=nan,\n",
       "             estimator=SVC(C=1.0, break_ties=False, cache_size=200,\n",
       "                           class_weight=None, coef0=0.0,\n",
       "                           decision_function_shape='ovr', degree=3,\n",
       "                           gamma='scale', kernel='linear', max_iter=-1,\n",
       "                           probability=False, random_state=None, shrinking=True,\n",
       "                           tol=0.001, verbose=False),\n",
       "             iid='deprecated', n_jobs=-1,\n",
       "             param_grid={'C': [10], 'gamma': [0.001]}, pre_dispatch='2*n_jobs',\n",
       "             refit=True, return_train_score=False, scoring=None, verbose=0)"
      ]
     },
     "execution_count": 69,
     "metadata": {},
     "output_type": "execute_result"
    }
   ],
   "source": [
    "param_grid = {'C': [10],\n",
    "              'gamma': [0.001]}\n",
    "linear_gsvc = GridSearchCV(SVC(kernel='linear'), param_grid,cv=6, n_jobs=-1)\n",
    "linear_gsvc.fit(X_train, y_train)"
   ]
  },
  {
   "cell_type": "code",
   "execution_count": 70,
   "metadata": {},
   "outputs": [
    {
     "data": {
      "text/plain": [
       "0.8188"
      ]
     },
     "execution_count": 70,
     "metadata": {},
     "output_type": "execute_result"
    }
   ],
   "source": [
    "linear_gsvc.score(X_test, y_test)\n",
    "#Accuracy score"
   ]
  },
  {
   "cell_type": "code",
   "execution_count": 71,
   "metadata": {},
   "outputs": [
    {
     "name": "stdout",
     "output_type": "stream",
     "text": [
      "Best parameters: {'C': 10, 'gamma': 0.001}\n",
      "Best cross-validation score: 0.813733\n"
     ]
    }
   ],
   "source": [
    "print(f'Best parameters: {linear_gsvc.best_params_}')\n",
    "print(f'Best cross-validation score: {linear_gsvc.best_score_:0.6f}')\n",
    "#Grid Search to find the best scaling parameter and mean testing score"
   ]
  },
  {
   "cell_type": "code",
   "execution_count": 73,
   "metadata": {},
   "outputs": [
    {
     "name": "stdout",
     "output_type": "stream",
     "text": [
      "\n",
      "Kerenilzed Support Vector Machine(linear): \n",
      "\n",
      "\t• Train accuracy score: 0.813422\n",
      "\t• Test accuracy score: 0.818800\n",
      "\n",
      "The Classification Report is plotted below: \n",
      "\n",
      "               precision    recall  f1-score   support\n",
      "\n",
      "           0       0.83      0.97      0.89      5905\n",
      "           1       0.68      0.28      0.39      1595\n",
      "\n",
      "    accuracy                           0.82      7500\n",
      "   macro avg       0.76      0.62      0.64      7500\n",
      "weighted avg       0.80      0.82      0.79      7500\n",
      "\n",
      "\n",
      "The Confusion Matrix is plotted below:\n"
     ]
    },
    {
     "data": {
      "image/png": "[encoded data removed]",
      "text/plain": [
       "<Figure size 432x288 with 2 Axes>"
      ]
     },
     "metadata": {
      "needs_background": "light"
     },
     "output_type": "display_data"
    }
   ],
   "source": [
    "y_pred = linear_gsvc.fit(X_train, y_train).predict(X_test)\n",
    "print(\"\\nKerenilzed Support Vector Machine(linear): \\n\\n\\t• Train accuracy score: {:.6f}\".format(linear_gsvc.score(X_train, y_train)))\n",
    "print(\"\\t• Test accuracy score: {:.6f}\".format(linear_gsvc.score(X_test, y_test)))\n",
    "print('\\nThe Classification Report is plotted below: \\n\\n',classification_report(y_test, y_pred))\n",
    "print('\\nThe Confusion Matrix is plotted below:')\n",
    "cm7 = confusion_matrix(y_test, y_pred)\n",
    "sns.heatmap(cm7,annot=True, cmap=\"Blues\", fmt=\"d\", \n",
    "            xticklabels = ['Non-default', 'Default'], \n",
    "            yticklabels = ['Non-default', 'Default'])\n",
    "plt.ylabel('True label')\n",
    "plt.xlabel('Predicted label');\n",
    "# plt.title(\"Confusion Matrix - Kerenilzed Support Vector Machine(linear)\");"
   ]
  },
  {
   "cell_type": "markdown",
   "metadata": {},
   "source": [
    "<div class=\"alert alert-block alert-danger\">\n",
    "An accuracy score is a good metric to report. It can be tempting to base the classification models' performance on accuracy if all classes are balanced. In our dataset, we have very imbalanced classes. There are 1561 labeled with 1 and 5939 labeled with 0.   \n",
    "<br>\n",
    "    \n",
    "    \n",
    "About 20% of clients default, therefore if we make a model that assigns 0 to def_pay, we get approximately 80% accuracy. It can be a misleading metric of the quality of our model.\n",
    "<br>\n",
    "    \n",
    "In this case, we look into metrics including precision, recall and F1 score. A better metric for our dataset is the f1-score. It takes into account both false positives and false negatives. Since our class is so imbalances, we should pay more attention to macro avg. \n",
    "<br>\n",
    "    \n",
    "    \n",
    "Also, from our confusion matrix, we noticed that false-negative predictions are worse than false positives, and therefore we should also aim for higher recall.\n",
    "<div>"
   ]
  },
  {
   "cell_type": "markdown",
   "metadata": {},
   "source": [
    "<div class=\"alert alert-block alert-info\">\n",
    "<b><font size=\"4\"> ROC Area Under Curve (AUC) plots for all model </font></b>"
   ]
  },
  {
   "cell_type": "code",
   "execution_count": 233,
   "metadata": {},
   "outputs": [
    {
     "data": {
      "image/png": "[encoded data removed]",
      "text/plain": [
       "<Figure size 1440x720 with 1 Axes>"
      ]
     },
     "metadata": {
      "needs_background": "light"
     },
     "output_type": "display_data"
    }
   ],
   "source": [
    "from sklearn.metrics import roc_curve\n",
    "y_pred_proba_knn = knn_gscv.predict_proba(X_test)[::,1]\n",
    "fpr1, tpr1, _ = roc_curve(y_test,  y_pred_proba_knn)\n",
    "roc_auc1 = roc_auc_score(y_test, y_pred_proba_knn)\n",
    "\n",
    "y_pred_proba_dt = dtree_gscv.predict_proba(X_test)[::,1]\n",
    "fpr2, tpr2, _ = roc_curve(y_test,  y_pred_proba_dt)\n",
    "roc_auc2 = roc_auc_score(y_test, y_pred_proba_dt)\n",
    "\n",
    "y_pred_proba_lr = lreg_gscv.predict_proba(X_test)[::,1]\n",
    "fpr3, tpr3, _ = roc_curve(y_test,  y_pred_proba_lr)\n",
    "roc_auc3 = roc_auc_score(y_test, y_pred_proba_lr)\n",
    "\n",
    "y_pred_proba_lscv = lsvc_gscv.decision_function(X_test)\n",
    "fpr4, tpr4, _ = roc_curve(y_test,  y_pred_proba_lscv)\n",
    "roc_auc4 = roc_auc_score(y_test, y_pred_proba_lscv)\n",
    "\n",
    "y_pred_proba_rbf = rbf_gsvc.decision_function(X_test)\n",
    "fpr5, tpr5, _ = roc_curve(y_test,  y_pred_proba_rbf)\n",
    "roc_auc5 = roc_auc_score(y_test, y_pred_proba_rbf)\n",
    "\n",
    "y_pred_proba_poly = poly_gsvc.decision_function(X_test)\n",
    "fpr6, tpr6, _ = roc_curve(y_test,  y_pred_proba_poly)\n",
    "roc_auc6 = roc_auc_score(y_test, y_pred_proba_poly)\n",
    "\n",
    "y_pred_proba_linear = linear_gsvc.decision_function(X_test)\n",
    "fpr7, tpr7, _ = roc_curve(y_test,  y_pred_proba_linear)\n",
    "roc_auc7 = roc_auc_score(y_test, y_pred_proba_linear)\n",
    "\n",
    "plt.figure(figsize=(20,10))\n",
    "plt.plot(fpr1, tpr1, label=\"KNN, auc=\"+str(round(roc_auc1,2)),color='green')\n",
    "plt.plot(fpr2,tpr2,label=\"Decision Tree, auc=\"+str(round(roc_auc2,2)),color='blue')\n",
    "plt.plot(fpr3,tpr3,label=\"Logistic, auc=\"+str(round(roc_auc3,2)),color='yellow')\n",
    "plt.plot(fpr4,tpr4,label=\"Linear SVM, auc=\"+str(round(roc_auc4,2)),color='red')\n",
    "plt.plot(fpr5,tpr5,label=\"SVM(rbf), auc=\"+str(round(roc_auc5,2)),color='Orange')\n",
    "plt.plot(fpr6,tpr6,label=\"SVM(poly), auc=\"+str(round(roc_auc6,2)),color='grey')\n",
    "plt.plot(fpr7,tpr7,label=\"SVM(linear), auc=\"+str(round(roc_auc7,2)),color='Black')    \n",
    "                            \n",
    "plt.plot([0, 1], [0, 1],'r--')\n",
    "plt.xlim([0.0, 1.0])\n",
    "plt.ylim([0.0, 1.05])\n",
    "plt.xlabel('False Positive Rate', fontsize=20)\n",
    "plt.ylabel('True Positive Rate', fontsize=20)\n",
    "plt.title('Receiver operating characteristic', fontsize=25)\n",
    "plt.legend(loc=\"lower right\",prop= {'size':19})\n",
    "plt.savefig('ROC.png')\n",
    "plt.show()"
   ]
  },
  {
   "cell_type": "markdown",
   "metadata": {},
   "source": [
    "<div class=\"alert alert-block alert-info\">\n",
    "<b><font size=\"4\"> Precision-Recall Area Under Curve (AUC) plots for all model </font></b>"
   ]
  },
  {
   "cell_type": "code",
   "execution_count": 234,
   "metadata": {},
   "outputs": [
    {
     "data": {
      "image/png": "[encoded data removed]",
      "text/plain": [
       "<Figure size 1440x720 with 1 Axes>"
      ]
     },
     "metadata": {
      "needs_background": "light"
     },
     "output_type": "display_data"
    }
   ],
   "source": [
    "from sklearn.metrics import precision_recall_curve\n",
    "y_pred_proba_knn = knn_gscv.predict_proba(X_test)[::,1]\n",
    "precision1, recall1, _ = precision_recall_curve(y_test,  y_pred_proba_knn)\n",
    "# auc1 = auc(recall1, precision1)\n",
    "\n",
    "y_pred_proba_dt = dtree_gscv.predict_proba(X_test)[::,1]\n",
    "precision2, recall2, _ = precision_recall_curve(y_test,  y_pred_proba_dt)\n",
    "# auc2 = auc(recall2, precision2)\n",
    "\n",
    "y_pred_proba_lr = lreg_gscv.predict_proba(X_test)[::,1]\n",
    "precision3, recall3, _ = precision_recall_curve(y_test,  y_pred_proba_lr)\n",
    "# auc3 = auc(recall3, precision3)\n",
    "\n",
    "y_pred_proba_lscv = lsvc_gscv.decision_function(X_test)\n",
    "precision4, recall4, _ = precision_recall_curve(y_test,  y_pred_proba_lscv)\n",
    "# auc4 = auc(recall4, precision4)\n",
    "\n",
    "y_pred_proba_rbf = rbf_gsvc.decision_function(X_test)\n",
    "precision5, recall5, _ = precision_recall_curve(y_test,  y_pred_proba_rbf)\n",
    "# auc5 = auc(recall5, precision5)\n",
    "\n",
    "y_pred_proba_poly = poly_gsvc.decision_function(X_test)\n",
    "precision6, recall6, _ = precision_recall_curve(y_test,  y_pred_proba_poly)\n",
    "# auc6 = auc(recall6, precision6)\n",
    "\n",
    "y_pred_proba_linear = linear_gsvc.decision_function(X_test)\n",
    "precision7, recall7, _ = precision_recall_curve(y_test,  y_pred_proba_linear)\n",
    "# auc7 = auc(recall7, precision7)\n",
    "\n",
    "plt.figure(figsize=(20,10))\n",
    "plt.plot(precision1, recall1, label=\"KNN\", color='green')\n",
    "plt.plot(precision2, recall2,label=\"Decision Tree\", color='blue')\n",
    "plt.plot(precision3, recall3,label=\"Logistic\", color='yellow')\n",
    "plt.plot(precision4, recall4,label=\"Linear SVM\", color='red')\n",
    "plt.plot(precision5, recall5,label=\"SVM(rbf)\", color='Orange')\n",
    "plt.plot(precision6, recall6,label=\"SVM(poly)\", color='grey')\n",
    "plt.plot(precision7, recall7,label=\"SVM(linear)\", color='Black')    \n",
    "\n",
    "# plt.plot(precision1, recall1, label=\"KNN, auc=\"+str(round(auc1,2)),color='green')\n",
    "# plt.plot(precision2, recall2,label=\"Decision Tree, auc=\"+str(round(auc2,2)),color='blue')\n",
    "# plt.plot(precision3, recall3,label=\"Logistic, auc=\"+str(round(auc3,2)),color='yellow')\n",
    "# plt.plot(precision4, recall4,label=\"Linear SVM, auc=\"+str(round(auc4,2)),color='red')\n",
    "# plt.plot(precision5, recall5,label=\"SVM(rbf), auc=\"+str(round(auc5,2)),color='Orange')\n",
    "# plt.plot(precision6, recall6,label=\"SVM(poly), auc=\"+str(round(auc6,2)),color='grey')\n",
    "# plt.plot(precision7, recall7,label=\"SVM(linear), auc=\"+str(round(auc7,2)),color='Black')\n",
    "                         \n",
    "plt.plot([0, 1], [1, 0],'r--')\n",
    "plt.xlim([0.0, 1.0])\n",
    "plt.ylim([0.0, 1.05])\n",
    "plt.xlabel('Recall', fontsize=20)\n",
    "plt.ylabel('Precision', fontsize=20)\n",
    "plt.title('Receiver operating characteristic', fontsize=25)\n",
    "plt.legend(loc=\"upper right\",prop= {'size':19})\n",
    "plt.savefig('PR.png')\n",
    "plt.show()"
   ]
  },
  {
   "cell_type": "code",
   "execution_count": 162,
   "metadata": {},
   "outputs": [
    {
     "name": "stdout",
     "output_type": "stream",
     "text": [
      "\n",
      "KNN Classification: \n",
      "\t•ROC-AUC score:  0.7185394663148758\n",
      "\n",
      "Decision Tree Classification: \n",
      "\t•ROC-AUC score:  0.7367699123265709\n",
      "\n",
      "Logistic Regression: \n",
      "\t•ROC-AUC score:  0.7452375251832171\n",
      "\n",
      "Linear Support Vector Machine: \n",
      "\t•ROC-AUC score:  0.7461360782929296\n",
      "\n",
      "Kerenilzed Support Vector Machine(rbf): \n",
      "\t•ROC-AUC score:  0.6852296151977895\n",
      "\n",
      "Kerenilzed Support Vector Machine(poly): \n",
      "\t•ROC-AUC score:  0.6983011580961886\n",
      "\n",
      "Kerenilzed Support Vector Machine(linear): \n",
      "\t•ROC-AUC score:  0.7474081525937054\n"
     ]
    }
   ],
   "source": [
    "print('\\nKNN Classification: ')\n",
    "print('\\t•ROC-AUC score: ',roc_auc1)\n",
    "\n",
    "print('\\nDecision Tree Classification: ')\n",
    "print('\\t•ROC-AUC score: ',roc_auc2)\n",
    "\n",
    "print('\\nLogistic Regression: ')\n",
    "print('\\t•ROC-AUC score: ',roc_auc3)\n",
    "\n",
    "print('\\nLinear Support Vector Machine: ')\n",
    "print('\\t•ROC-AUC score: ',roc_auc4)\n",
    "\n",
    "print('\\nKerenilzed Support Vector Machine(rbf): ')\n",
    "print('\\t•ROC-AUC score: ',roc_auc5)\n",
    "\n",
    "print('\\nKerenilzed Support Vector Machine(poly): ')\n",
    "print('\\t•ROC-AUC score: ',roc_auc6)\n",
    "\n",
    "print('\\nKerenilzed Support Vector Machine(linear): ')\n",
    "print('\\t•ROC-AUC score: ',roc_auc7)"
   ]
  },
  {
   "cell_type": "markdown",
   "metadata": {},
   "source": [
    "<div class=\"alert alert-info\" role=\"alert\">\n",
    "<b><font size=\"4\">  Model Selection: </font></b>\n",
    "    \n",
    "Compare all the above models' performance    \n",
    "</div>"
   ]
  },
  {
   "cell_type": "code",
   "execution_count": 166,
   "metadata": {},
   "outputs": [
    {
     "name": "stdout",
     "output_type": "stream",
     "text": [
      "\n",
      "\n",
      " Metrics Summary of all Models(sorted based on ROC-AUC) :\n"
     ]
    },
    {
     "data": {
      "text/html": [
       "<div>\n",
       "<style scoped>\n",
       "    .dataframe tbody tr th:only-of-type {\n",
       "        vertical-align: middle;\n",
       "    }\n",
       "\n",
       "    .dataframe tbody tr th {\n",
       "        vertical-align: top;\n",
       "    }\n",
       "\n",
       "    .dataframe thead th {\n",
       "        text-align: right;\n",
       "    }\n",
       "</style>\n",
       "<table border=\"1\" class=\"dataframe\">\n",
       "  <thead>\n",
       "    <tr style=\"text-align: right;\">\n",
       "      <th></th>\n",
       "      <th>Accuracy score</th>\n",
       "      <th>ROC - AUC</th>\n",
       "      <th>Optimal Parameter</th>\n",
       "    </tr>\n",
       "  </thead>\n",
       "  <tbody>\n",
       "    <tr>\n",
       "      <th>Kerenilzed Support Vector Machine(linear)</th>\n",
       "      <td>0.818800</td>\n",
       "      <td>0.747408</td>\n",
       "      <td>C: 10, gamma: 0.001</td>\n",
       "    </tr>\n",
       "    <tr>\n",
       "      <th>Linear Support Vector Machine</th>\n",
       "      <td>0.816400</td>\n",
       "      <td>0.746136</td>\n",
       "      <td>C: 1, loss: \"hinge\"</td>\n",
       "    </tr>\n",
       "    <tr>\n",
       "      <th>Logistic Regression</th>\n",
       "      <td>0.814933</td>\n",
       "      <td>0.745237</td>\n",
       "      <td>C: 20</td>\n",
       "    </tr>\n",
       "    <tr>\n",
       "      <th>KNN Classification</th>\n",
       "      <td>0.806933</td>\n",
       "      <td>0.736769</td>\n",
       "      <td>n_neighbors: 21</td>\n",
       "    </tr>\n",
       "    <tr>\n",
       "      <th>Decision Tree Classification</th>\n",
       "      <td>0.822133</td>\n",
       "      <td>0.736769</td>\n",
       "      <td>criterion: \"gini\", max_depth: 4</td>\n",
       "    </tr>\n",
       "    <tr>\n",
       "      <th>Kerenilzed Support Vector Machine(poly)</th>\n",
       "      <td>0.811600</td>\n",
       "      <td>0.698301</td>\n",
       "      <td>C: 10, gamma: 1</td>\n",
       "    </tr>\n",
       "    <tr>\n",
       "      <th>Kerenilzed Support Vector Machine(rbf)</th>\n",
       "      <td>0.812666</td>\n",
       "      <td>0.685229</td>\n",
       "      <td>C: 100, gamma: 1</td>\n",
       "    </tr>\n",
       "  </tbody>\n",
       "</table>\n",
       "</div>"
      ],
      "text/plain": [
       "                                           Accuracy score  ROC - AUC  \\\n",
       "Kerenilzed Support Vector Machine(linear)        0.818800   0.747408   \n",
       "Linear Support Vector Machine                    0.816400   0.746136   \n",
       "Logistic Regression                              0.814933   0.745237   \n",
       "KNN Classification                               0.806933   0.736769   \n",
       "Decision Tree Classification                     0.822133   0.736769   \n",
       "Kerenilzed Support Vector Machine(poly)          0.811600   0.698301   \n",
       "Kerenilzed Support Vector Machine(rbf)           0.812666   0.685229   \n",
       "\n",
       "                                                         Optimal Parameter  \n",
       "Kerenilzed Support Vector Machine(linear)              C: 10, gamma: 0.001  \n",
       "Linear Support Vector Machine                          C: 1, loss: \"hinge\"  \n",
       "Logistic Regression                                                  C: 20  \n",
       "KNN Classification                                         n_neighbors: 21  \n",
       "Decision Tree Classification               criterion: \"gini\", max_depth: 4  \n",
       "Kerenilzed Support Vector Machine(poly)                    C: 10, gamma: 1  \n",
       "Kerenilzed Support Vector Machine(rbf)                    C: 100, gamma: 1  "
      ]
     },
     "metadata": {},
     "output_type": "display_data"
    }
   ],
   "source": [
    "dict={'Accuracy score':[0.806933,0.822133, 0.814933, 0.8164, 0.812666, 0.8116, 0.8188],\n",
    "      'ROC - AUC':[0.736769, 0.736769, 0.745237, 0.746136, 0.685229, 0.698301,0.747408],\n",
    "     'Optimal Parameter':['n_neighbors: 21', 'criterion: \"gini\", max_depth: 4', 'C: 20', 'C: 1, loss: \"hinge\"','C: 100, gamma: 1','C: 10, gamma: 1','C: 10, gamma: 0.001']}\n",
    "model_results= pd.DataFrame(dict,index=['KNN Classification', 'Decision Tree Classification', 'Logistic Regression','Linear Support Vector Machine','Kerenilzed Support Vector Machine(rbf)','Kerenilzed Support Vector Machine(poly)','Kerenilzed Support Vector Machine(linear)'])\n",
    "print('\\n\\n Metrics Summary of all Models(sorted based on ROC-AUC) :')\n",
    "display(model_results.sort_values(by=['ROC - AUC'],ascending=False))"
   ]
  },
  {
   "cell_type": "markdown",
   "metadata": {},
   "source": [
    "<div class=\"alert alert-block alert-warning\">\n",
    "    \n",
    "Precsion-recall curve focuses on the minority label while the ROC curve covers both. From the ROC curve, the `Kerenilzed Support Vector Machine(linear)` model performs better than the rest of the model area under the curve. However, an algorithm that optimizes the area under the ROC curve is not guaranteed to optimize the area under the PR curve.\n",
    "<br>\n",
    "    \n",
    "We have a highly imbalanced classes with more negative than positive (non default clients than the default people), which indicates that it's more important to focus on the PR curve and maximizing the area under the curve even though it may seems awesome to have good ROC results. \n",
    "<div>"
   ]
  },
  {
   "cell_type": "code",
   "execution_count": 167,
   "metadata": {},
   "outputs": [],
   "source": [
    "model_results.to_csv(\"project1_result_table.csv\")"
   ]
  },
  {
   "cell_type": "code",
   "execution_count": null,
   "metadata": {},
   "outputs": [],
   "source": []
  }
 ],
 "metadata": {
  "kernelspec": {
   "display_name": "Python 3",
   "language": "python",
   "name": "python3"
  },
  "language_info": {
   "codemirror_mode": {
    "name": "ipython",
    "version": 3
   },
   "file_extension": ".py",
   "mimetype": "text/x-python",
   "name": "python",
   "nbconvert_exporter": "python",
   "pygments_lexer": "ipython3",
   "version": "3.7.2rc1"
  }
 },
 "nbformat": 4,
 "nbformat_minor": 2
}
